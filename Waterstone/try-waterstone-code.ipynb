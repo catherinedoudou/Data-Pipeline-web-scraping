{
 "metadata": {
  "language_info": {
   "codemirror_mode": {
    "name": "ipython",
    "version": 3
   },
   "file_extension": ".py",
   "mimetype": "text/x-python",
   "name": "python",
   "nbconvert_exporter": "python",
   "pygments_lexer": "ipython3",
   "version": "3.9.1-final"
  },
  "orig_nbformat": 2,
  "kernelspec": {
   "name": "geopy",
   "display_name": "geopy",
   "language": "python"
  }
 },
 "nbformat": 4,
 "nbformat_minor": 2,
 "cells": [
  {
   "cell_type": "code",
   "execution_count": 3,
   "metadata": {},
   "outputs": [],
   "source": [
    "import selenium\n",
    "from selenium import webdriver"
   ]
  },
  {
   "cell_type": "code",
   "execution_count": 106,
   "metadata": {},
   "outputs": [],
   "source": [
    "driver = webdriver.Chrome(executable_path = 'C:/learning/Project/web_scraping/chrome_driver/chromedriver.exe')\n",
    "driver.get('https://www.waterstones.com/books/search/')\n",
    "#accept cookies\n",
    "driver.find_element_by_xpath('/html/body/div/div[1]/div/a').click()"
   ]
  },
  {
   "cell_type": "code",
   "execution_count": null,
   "metadata": {},
   "outputs": [],
   "source": [
    "\n",
    "listoflinks = []\n",
    "condition = True\n",
    "while condition:\n",
    "    products = driver.find_elements_by_class_name('info-wrap')\n",
    "\n",
    "    for el in products:\n",
    "        p1 = el.find_element_by_tag_name('a')\n",
    "        listoflinks.append(p1.get_property('href'))\n",
    "    try:\n",
    "         driver.find_element_by_class_name('next').click()\n",
    "    except:\n",
    "        condition = False"
   ]
  },
  {
   "cell_type": "code",
   "execution_count": 112,
   "metadata": {},
   "outputs": [
    {
     "output_type": "stream",
     "name": "stderr",
     "text": [
      "100%|██████████| 20/20 [00:25<00:00,  1.28s/it]\n"
     ]
    }
   ],
   "source": [
    "from tqdm import tqdm\r\n",
    "all_books = []\r\n",
    "for i in tqdm(listoflinks[:20]):\r\n",
    "    driver.get(i)\r\n",
    "    booktitle = driver.find_element_by_xpath('//*[@id=\"scope_book_title\"]').text\r\n",
    "    price = driver.find_element_by_xpath('/html/body/div[1]/div[2]/div[2]/section[1]/div[2]/div[2]/div/div/div/div[1]/div/b').text\r\n",
    "    author = driver.find_element_by_xpath('/html/body/div[1]/div[2]/div[2]/section[1]/div[2]/div[1]/span/a/b/span').text\r\n",
    "    ISBN = driver.find_element_by_xpath('/html/body/div[1]/div[2]/div[2]/section[2]/div[2]/div/div/p/i[2]/span').text\r\n",
    "    publisher = driver.find_element_by_xpath('/html/body/div[1]/div[2]/div[2]/section[2]/div[2]/div/div/p/i[1]/span').text\r\n",
    "    category = driver.find_element_by_xpath('/html/body/div[1]/div[2]/div[1]/a[1]').text\r\n",
    "    pages = driver.find_element_by_xpath('/html/body/div[1]/div[2]/div[2]/section[2]/div[2]/div/div/p/i[3]/span').text\r\n",
    "    \r\n",
    "    information = {'booktitle':booktitle,\r\n",
    "        'price':price,\r\n",
    "        'author':author,\r\n",
    "        'ISBN':ISBN,\r\n",
    "        'publisher':publisher,\r\n",
    "        'category':category,\r\n",
    "        'pages/weight':pages}\r\n",
    "    all_books.append(information)"
   ]
  },
  {
   "cell_type": "code",
   "execution_count": null,
   "metadata": {},
   "outputs": [],
   "source": [
    "driver.close()"
   ]
  },
  {
   "cell_type": "code",
   "execution_count": 113,
   "metadata": {},
   "outputs": [
    {
     "output_type": "execute_result",
     "data": {
      "text/plain": [
       "                                            booktitle    price  \\\n",
       "0       LGB Elmo Loves You (Sesame Street) (Hardback)    £3.99   \n",
       "1   Venemous Animals - Peterson Field Guides (Pape...   £11.99   \n",
       "2   The Little Butterfly Step into Reading Lvl 2 (...    £3.99   \n",
       "3   A Field Guide to the Birds' Nests: United Stat...   £11.99   \n",
       "4                                 Hog-Eye (Paperback)    £3.99   \n",
       "5   Elmo's Little Golden Book Favorites (Sesame St...    £5.99   \n",
       "6   Field Guide to Eastern Birds - Peterson Field ...   £14.99   \n",
       "7          There's No Such Thing As Little (Hardback)   £13.99   \n",
       "8                               Zooman Sam (Hardback)    £9.95   \n",
       "9   The Night Before Christmas Board Book (Board b...    £5.99   \n",
       "10  Communication Science Theory and Research: An ...  £150.00   \n",
       "11  Reptiles and Amphibians - Peterson first guide...    £3.99   \n",
       "12        P is for Potty - Sesame Street (Board book)    £4.99   \n",
       "13  The Dynamics of Political Communication: Media...  £130.00   \n",
       "14  Solar System - Peterson first guide series (Pa...    £3.99   \n",
       "15                        LGB I Am A Bunny (Hardback)    £3.99   \n",
       "16                Edna Webster Collection (Paperback)    £7.95   \n",
       "17            Practising Social Inclusion (Paperback)   £36.99   \n",
       "18  The Poky Little Puppy Step Into Reading Lvl 1 ...    £4.50   \n",
       "19                            Building Big (Hardback)   £25.99   \n",
       "\n",
       "                 author           ISBN             publisher  \\\n",
       "0           Sarah Albee  9780385372831  Random House USA Inc   \n",
       "1              Peterson  9780395936085      Houghton Mifflin   \n",
       "2         Sherry Shahan  9780385371896  Random House USA Inc   \n",
       "3       Hal H. Harrison  9780395936092      Houghton Mifflin   \n",
       "4        Susan Meddaugh  9780395937464      Houghton Mifflin   \n",
       "5           Sarah Albee  9780385371964  Random House USA Inc   \n",
       "6   Roger Tory Peterson  9780395963715      Houghton Mifflin   \n",
       "7           LeUyen Pham  9780385391504  Random House USA Inc   \n",
       "8            Lois Lowry  9780395973936      Houghton Mifflin   \n",
       "9      Clement C. Moore  9780385384742  Random House USA Inc   \n",
       "10        Marina Krcmar  9780415533836  Taylor & Francis Ltd   \n",
       "11         Roger Conant  9780395971956      Houghton Mifflin   \n",
       "12      Naomi Kleinberg  9780385383691  Random House USA Inc   \n",
       "13   Richard M. Perloff  9780415531832  Taylor & Francis Ltd   \n",
       "14     Jay M. Pasachoff  9780395971949      Houghton Mifflin   \n",
       "15            Ole Risom  9780385384759  Random House USA Inc   \n",
       "16            Brautigan  9780395974698      Houghton Mifflin   \n",
       "17            Ann Taket  9780415531078  Taylor & Francis Ltd   \n",
       "18    Kristen L. Depken  9780385390910  Random House USA Inc   \n",
       "19       David Macaulay  9780395963319      Houghton Mifflin   \n",
       "\n",
       "                          category pages/weight  \n",
       "0             Children's & Teenage           24  \n",
       "1         Popular Science & Nature        200 g  \n",
       "2             Children's & Teenage           32  \n",
       "3   Science, Technology & Medicine        300 g  \n",
       "4             Children's & Teenage        113 g  \n",
       "5             Children's & Teenage           80  \n",
       "6         Popular Science & Nature        758 g  \n",
       "7             Children's & Teenage           48  \n",
       "8             Children's & Teenage        363 g  \n",
       "9             Children's & Teenage           26  \n",
       "10   Politics, Society & Education          360  \n",
       "11            Children's & Teenage        115 g  \n",
       "12            Children's & Teenage           12  \n",
       "13            Language & Reference          488  \n",
       "14            Children's & Teenage        119 g  \n",
       "15            Children's & Teenage           24  \n",
       "16                         Fiction        174 g  \n",
       "17   Politics, Society & Education          328  \n",
       "18            Children's & Teenage           32  \n",
       "19      Art, Fashion & Photography       1056 g  "
      ],
      "text/html": "<div>\n<style scoped>\n    .dataframe tbody tr th:only-of-type {\n        vertical-align: middle;\n    }\n\n    .dataframe tbody tr th {\n        vertical-align: top;\n    }\n\n    .dataframe thead th {\n        text-align: right;\n    }\n</style>\n<table border=\"1\" class=\"dataframe\">\n  <thead>\n    <tr style=\"text-align: right;\">\n      <th></th>\n      <th>booktitle</th>\n      <th>price</th>\n      <th>author</th>\n      <th>ISBN</th>\n      <th>publisher</th>\n      <th>category</th>\n      <th>pages/weight</th>\n    </tr>\n  </thead>\n  <tbody>\n    <tr>\n      <th>0</th>\n      <td>LGB Elmo Loves You (Sesame Street) (Hardback)</td>\n      <td>£3.99</td>\n      <td>Sarah Albee</td>\n      <td>9780385372831</td>\n      <td>Random House USA Inc</td>\n      <td>Children's &amp; Teenage</td>\n      <td>24</td>\n    </tr>\n    <tr>\n      <th>1</th>\n      <td>Venemous Animals - Peterson Field Guides (Pape...</td>\n      <td>£11.99</td>\n      <td>Peterson</td>\n      <td>9780395936085</td>\n      <td>Houghton Mifflin</td>\n      <td>Popular Science &amp; Nature</td>\n      <td>200 g</td>\n    </tr>\n    <tr>\n      <th>2</th>\n      <td>The Little Butterfly Step into Reading Lvl 2 (...</td>\n      <td>£3.99</td>\n      <td>Sherry Shahan</td>\n      <td>9780385371896</td>\n      <td>Random House USA Inc</td>\n      <td>Children's &amp; Teenage</td>\n      <td>32</td>\n    </tr>\n    <tr>\n      <th>3</th>\n      <td>A Field Guide to the Birds' Nests: United Stat...</td>\n      <td>£11.99</td>\n      <td>Hal H. Harrison</td>\n      <td>9780395936092</td>\n      <td>Houghton Mifflin</td>\n      <td>Science, Technology &amp; Medicine</td>\n      <td>300 g</td>\n    </tr>\n    <tr>\n      <th>4</th>\n      <td>Hog-Eye (Paperback)</td>\n      <td>£3.99</td>\n      <td>Susan Meddaugh</td>\n      <td>9780395937464</td>\n      <td>Houghton Mifflin</td>\n      <td>Children's &amp; Teenage</td>\n      <td>113 g</td>\n    </tr>\n    <tr>\n      <th>5</th>\n      <td>Elmo's Little Golden Book Favorites (Sesame St...</td>\n      <td>£5.99</td>\n      <td>Sarah Albee</td>\n      <td>9780385371964</td>\n      <td>Random House USA Inc</td>\n      <td>Children's &amp; Teenage</td>\n      <td>80</td>\n    </tr>\n    <tr>\n      <th>6</th>\n      <td>Field Guide to Eastern Birds - Peterson Field ...</td>\n      <td>£14.99</td>\n      <td>Roger Tory Peterson</td>\n      <td>9780395963715</td>\n      <td>Houghton Mifflin</td>\n      <td>Popular Science &amp; Nature</td>\n      <td>758 g</td>\n    </tr>\n    <tr>\n      <th>7</th>\n      <td>There's No Such Thing As Little (Hardback)</td>\n      <td>£13.99</td>\n      <td>LeUyen Pham</td>\n      <td>9780385391504</td>\n      <td>Random House USA Inc</td>\n      <td>Children's &amp; Teenage</td>\n      <td>48</td>\n    </tr>\n    <tr>\n      <th>8</th>\n      <td>Zooman Sam (Hardback)</td>\n      <td>£9.95</td>\n      <td>Lois Lowry</td>\n      <td>9780395973936</td>\n      <td>Houghton Mifflin</td>\n      <td>Children's &amp; Teenage</td>\n      <td>363 g</td>\n    </tr>\n    <tr>\n      <th>9</th>\n      <td>The Night Before Christmas Board Book (Board b...</td>\n      <td>£5.99</td>\n      <td>Clement C. Moore</td>\n      <td>9780385384742</td>\n      <td>Random House USA Inc</td>\n      <td>Children's &amp; Teenage</td>\n      <td>26</td>\n    </tr>\n    <tr>\n      <th>10</th>\n      <td>Communication Science Theory and Research: An ...</td>\n      <td>£150.00</td>\n      <td>Marina Krcmar</td>\n      <td>9780415533836</td>\n      <td>Taylor &amp; Francis Ltd</td>\n      <td>Politics, Society &amp; Education</td>\n      <td>360</td>\n    </tr>\n    <tr>\n      <th>11</th>\n      <td>Reptiles and Amphibians - Peterson first guide...</td>\n      <td>£3.99</td>\n      <td>Roger Conant</td>\n      <td>9780395971956</td>\n      <td>Houghton Mifflin</td>\n      <td>Children's &amp; Teenage</td>\n      <td>115 g</td>\n    </tr>\n    <tr>\n      <th>12</th>\n      <td>P is for Potty - Sesame Street (Board book)</td>\n      <td>£4.99</td>\n      <td>Naomi Kleinberg</td>\n      <td>9780385383691</td>\n      <td>Random House USA Inc</td>\n      <td>Children's &amp; Teenage</td>\n      <td>12</td>\n    </tr>\n    <tr>\n      <th>13</th>\n      <td>The Dynamics of Political Communication: Media...</td>\n      <td>£130.00</td>\n      <td>Richard M. Perloff</td>\n      <td>9780415531832</td>\n      <td>Taylor &amp; Francis Ltd</td>\n      <td>Language &amp; Reference</td>\n      <td>488</td>\n    </tr>\n    <tr>\n      <th>14</th>\n      <td>Solar System - Peterson first guide series (Pa...</td>\n      <td>£3.99</td>\n      <td>Jay M. Pasachoff</td>\n      <td>9780395971949</td>\n      <td>Houghton Mifflin</td>\n      <td>Children's &amp; Teenage</td>\n      <td>119 g</td>\n    </tr>\n    <tr>\n      <th>15</th>\n      <td>LGB I Am A Bunny (Hardback)</td>\n      <td>£3.99</td>\n      <td>Ole Risom</td>\n      <td>9780385384759</td>\n      <td>Random House USA Inc</td>\n      <td>Children's &amp; Teenage</td>\n      <td>24</td>\n    </tr>\n    <tr>\n      <th>16</th>\n      <td>Edna Webster Collection (Paperback)</td>\n      <td>£7.95</td>\n      <td>Brautigan</td>\n      <td>9780395974698</td>\n      <td>Houghton Mifflin</td>\n      <td>Fiction</td>\n      <td>174 g</td>\n    </tr>\n    <tr>\n      <th>17</th>\n      <td>Practising Social Inclusion (Paperback)</td>\n      <td>£36.99</td>\n      <td>Ann Taket</td>\n      <td>9780415531078</td>\n      <td>Taylor &amp; Francis Ltd</td>\n      <td>Politics, Society &amp; Education</td>\n      <td>328</td>\n    </tr>\n    <tr>\n      <th>18</th>\n      <td>The Poky Little Puppy Step Into Reading Lvl 1 ...</td>\n      <td>£4.50</td>\n      <td>Kristen L. Depken</td>\n      <td>9780385390910</td>\n      <td>Random House USA Inc</td>\n      <td>Children's &amp; Teenage</td>\n      <td>32</td>\n    </tr>\n    <tr>\n      <th>19</th>\n      <td>Building Big (Hardback)</td>\n      <td>£25.99</td>\n      <td>David Macaulay</td>\n      <td>9780395963319</td>\n      <td>Houghton Mifflin</td>\n      <td>Art, Fashion &amp; Photography</td>\n      <td>1056 g</td>\n    </tr>\n  </tbody>\n</table>\n</div>"
     },
     "metadata": {},
     "execution_count": 113
    }
   ],
   "source": [
    "import pandas as pd\n",
    "pd.DataFrame(all_books)"
   ]
  },
  {
   "cell_type": "code",
   "execution_count": null,
   "metadata": {},
   "outputs": [],
   "source": [
    "pd.to_csv(all_books)"
   ]
  }
 ]
}
