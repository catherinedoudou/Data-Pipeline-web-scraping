{
 "metadata": {
  "language_info": {
   "codemirror_mode": {
    "name": "ipython",
    "version": 3
   },
   "file_extension": ".py",
   "mimetype": "text/x-python",
   "name": "python",
   "nbconvert_exporter": "python",
   "pygments_lexer": "ipython3",
   "version": "3.9.1-final"
  },
  "orig_nbformat": 2,
  "kernelspec": {
   "name": "python3",
   "display_name": "Python 3",
   "language": "python"
  }
 },
 "nbformat": 4,
 "nbformat_minor": 2,
 "cells": [
  {
   "source": [
    "# Quick testing:"
   ],
   "cell_type": "markdown",
   "metadata": {}
  },
  {
   "cell_type": "code",
   "execution_count": 2,
   "metadata": {},
   "outputs": [
    {
     "output_type": "stream",
     "name": "stderr",
     "text": [
      "[WDM] - Current google-chrome version is 88.0.4324\n",
      "[WDM] - Get LATEST driver version for 88.0.4324\n",
      "[WDM] - Get LATEST driver version for 88.0.4324\n",
      "[WDM] - Trying to download new driver from http://chromedriver.storage.googleapis.com/88.0.4324.96/chromedriver_win32.zip\n",
      " \n",
      "[WDM] - Driver has been saved in cache [C:\\Users\\xiaod\\.wdm\\drivers\\chromedriver\\win32\\88.0.4324.96]\n"
     ]
    },
    {
     "output_type": "error",
     "ename": "KeyboardInterrupt",
     "evalue": "",
     "traceback": [
      "\u001b[1;31m---------------------------------------------------------------------------\u001b[0m",
      "\u001b[1;31mKeyboardInterrupt\u001b[0m                         Traceback (most recent call last)",
      "\u001b[1;32m<ipython-input-2-e03faf34e3d7>\u001b[0m in \u001b[0;36m<module>\u001b[1;34m\u001b[0m\n\u001b[0;32m     12\u001b[0m \u001b[1;33m\u001b[0m\u001b[0m\n\u001b[0;32m     13\u001b[0m \u001b[0mwd\u001b[0m \u001b[1;33m=\u001b[0m \u001b[0mwebdriver\u001b[0m\u001b[1;33m.\u001b[0m\u001b[0mChrome\u001b[0m\u001b[1;33m(\u001b[0m\u001b[0mChromeDriverManager\u001b[0m\u001b[1;33m(\u001b[0m\u001b[1;33m)\u001b[0m\u001b[1;33m.\u001b[0m\u001b[0minstall\u001b[0m\u001b[1;33m(\u001b[0m\u001b[1;33m)\u001b[0m\u001b[1;33m)\u001b[0m\u001b[1;33m\u001b[0m\u001b[1;33m\u001b[0m\u001b[0m\n\u001b[1;32m---> 14\u001b[1;33m \u001b[0mwd\u001b[0m\u001b[1;33m.\u001b[0m\u001b[0mget\u001b[0m\u001b[1;33m(\u001b[0m\u001b[0murl\u001b[0m\u001b[1;33m)\u001b[0m\u001b[1;33m\u001b[0m\u001b[1;33m\u001b[0m\u001b[0m\n\u001b[0m\u001b[0;32m     15\u001b[0m \u001b[0maccept_cookies\u001b[0m\u001b[1;33m(\u001b[0m\u001b[0mwd\u001b[0m\u001b[1;33m)\u001b[0m\u001b[1;33m\u001b[0m\u001b[1;33m\u001b[0m\u001b[0m\n\u001b[0;32m     16\u001b[0m \u001b[1;33m\u001b[0m\u001b[0m\n",
      "\u001b[1;32mc:\\learning\\learning\\lib\\site-packages\\selenium\\webdriver\\remote\\webdriver.py\u001b[0m in \u001b[0;36mget\u001b[1;34m(self, url)\u001b[0m\n\u001b[0;32m    331\u001b[0m         \u001b[0mLoads\u001b[0m \u001b[0ma\u001b[0m \u001b[0mweb\u001b[0m \u001b[0mpage\u001b[0m \u001b[1;32min\u001b[0m \u001b[0mthe\u001b[0m \u001b[0mcurrent\u001b[0m \u001b[0mbrowser\u001b[0m \u001b[0msession\u001b[0m\u001b[1;33m.\u001b[0m\u001b[1;33m\u001b[0m\u001b[1;33m\u001b[0m\u001b[0m\n\u001b[0;32m    332\u001b[0m         \"\"\"\n\u001b[1;32m--> 333\u001b[1;33m         \u001b[0mself\u001b[0m\u001b[1;33m.\u001b[0m\u001b[0mexecute\u001b[0m\u001b[1;33m(\u001b[0m\u001b[0mCommand\u001b[0m\u001b[1;33m.\u001b[0m\u001b[0mGET\u001b[0m\u001b[1;33m,\u001b[0m \u001b[1;33m{\u001b[0m\u001b[1;34m'url'\u001b[0m\u001b[1;33m:\u001b[0m \u001b[0murl\u001b[0m\u001b[1;33m}\u001b[0m\u001b[1;33m)\u001b[0m\u001b[1;33m\u001b[0m\u001b[1;33m\u001b[0m\u001b[0m\n\u001b[0m\u001b[0;32m    334\u001b[0m \u001b[1;33m\u001b[0m\u001b[0m\n\u001b[0;32m    335\u001b[0m     \u001b[1;33m@\u001b[0m\u001b[0mproperty\u001b[0m\u001b[1;33m\u001b[0m\u001b[1;33m\u001b[0m\u001b[0m\n",
      "\u001b[1;32mc:\\learning\\learning\\lib\\site-packages\\selenium\\webdriver\\remote\\webdriver.py\u001b[0m in \u001b[0;36mexecute\u001b[1;34m(self, driver_command, params)\u001b[0m\n\u001b[0;32m    317\u001b[0m \u001b[1;33m\u001b[0m\u001b[0m\n\u001b[0;32m    318\u001b[0m         \u001b[0mparams\u001b[0m \u001b[1;33m=\u001b[0m \u001b[0mself\u001b[0m\u001b[1;33m.\u001b[0m\u001b[0m_wrap_value\u001b[0m\u001b[1;33m(\u001b[0m\u001b[0mparams\u001b[0m\u001b[1;33m)\u001b[0m\u001b[1;33m\u001b[0m\u001b[1;33m\u001b[0m\u001b[0m\n\u001b[1;32m--> 319\u001b[1;33m         \u001b[0mresponse\u001b[0m \u001b[1;33m=\u001b[0m \u001b[0mself\u001b[0m\u001b[1;33m.\u001b[0m\u001b[0mcommand_executor\u001b[0m\u001b[1;33m.\u001b[0m\u001b[0mexecute\u001b[0m\u001b[1;33m(\u001b[0m\u001b[0mdriver_command\u001b[0m\u001b[1;33m,\u001b[0m \u001b[0mparams\u001b[0m\u001b[1;33m)\u001b[0m\u001b[1;33m\u001b[0m\u001b[1;33m\u001b[0m\u001b[0m\n\u001b[0m\u001b[0;32m    320\u001b[0m         \u001b[1;32mif\u001b[0m \u001b[0mresponse\u001b[0m\u001b[1;33m:\u001b[0m\u001b[1;33m\u001b[0m\u001b[1;33m\u001b[0m\u001b[0m\n\u001b[0;32m    321\u001b[0m             \u001b[0mself\u001b[0m\u001b[1;33m.\u001b[0m\u001b[0merror_handler\u001b[0m\u001b[1;33m.\u001b[0m\u001b[0mcheck_response\u001b[0m\u001b[1;33m(\u001b[0m\u001b[0mresponse\u001b[0m\u001b[1;33m)\u001b[0m\u001b[1;33m\u001b[0m\u001b[1;33m\u001b[0m\u001b[0m\n",
      "\u001b[1;32mc:\\learning\\learning\\lib\\site-packages\\selenium\\webdriver\\remote\\remote_connection.py\u001b[0m in \u001b[0;36mexecute\u001b[1;34m(self, command, params)\u001b[0m\n\u001b[0;32m    372\u001b[0m         \u001b[0mdata\u001b[0m \u001b[1;33m=\u001b[0m \u001b[0mutils\u001b[0m\u001b[1;33m.\u001b[0m\u001b[0mdump_json\u001b[0m\u001b[1;33m(\u001b[0m\u001b[0mparams\u001b[0m\u001b[1;33m)\u001b[0m\u001b[1;33m\u001b[0m\u001b[1;33m\u001b[0m\u001b[0m\n\u001b[0;32m    373\u001b[0m         \u001b[0murl\u001b[0m \u001b[1;33m=\u001b[0m \u001b[1;34m'%s%s'\u001b[0m \u001b[1;33m%\u001b[0m \u001b[1;33m(\u001b[0m\u001b[0mself\u001b[0m\u001b[1;33m.\u001b[0m\u001b[0m_url\u001b[0m\u001b[1;33m,\u001b[0m \u001b[0mpath\u001b[0m\u001b[1;33m)\u001b[0m\u001b[1;33m\u001b[0m\u001b[1;33m\u001b[0m\u001b[0m\n\u001b[1;32m--> 374\u001b[1;33m         \u001b[1;32mreturn\u001b[0m \u001b[0mself\u001b[0m\u001b[1;33m.\u001b[0m\u001b[0m_request\u001b[0m\u001b[1;33m(\u001b[0m\u001b[0mcommand_info\u001b[0m\u001b[1;33m[\u001b[0m\u001b[1;36m0\u001b[0m\u001b[1;33m]\u001b[0m\u001b[1;33m,\u001b[0m \u001b[0murl\u001b[0m\u001b[1;33m,\u001b[0m \u001b[0mbody\u001b[0m\u001b[1;33m=\u001b[0m\u001b[0mdata\u001b[0m\u001b[1;33m)\u001b[0m\u001b[1;33m\u001b[0m\u001b[1;33m\u001b[0m\u001b[0m\n\u001b[0m\u001b[0;32m    375\u001b[0m \u001b[1;33m\u001b[0m\u001b[0m\n\u001b[0;32m    376\u001b[0m     \u001b[1;32mdef\u001b[0m \u001b[0m_request\u001b[0m\u001b[1;33m(\u001b[0m\u001b[0mself\u001b[0m\u001b[1;33m,\u001b[0m \u001b[0mmethod\u001b[0m\u001b[1;33m,\u001b[0m \u001b[0murl\u001b[0m\u001b[1;33m,\u001b[0m \u001b[0mbody\u001b[0m\u001b[1;33m=\u001b[0m\u001b[1;32mNone\u001b[0m\u001b[1;33m)\u001b[0m\u001b[1;33m:\u001b[0m\u001b[1;33m\u001b[0m\u001b[1;33m\u001b[0m\u001b[0m\n",
      "\u001b[1;32mc:\\learning\\learning\\lib\\site-packages\\selenium\\webdriver\\remote\\remote_connection.py\u001b[0m in \u001b[0;36m_request\u001b[1;34m(self, method, url, body)\u001b[0m\n\u001b[0;32m    395\u001b[0m \u001b[1;33m\u001b[0m\u001b[0m\n\u001b[0;32m    396\u001b[0m         \u001b[1;32mif\u001b[0m \u001b[0mself\u001b[0m\u001b[1;33m.\u001b[0m\u001b[0mkeep_alive\u001b[0m\u001b[1;33m:\u001b[0m\u001b[1;33m\u001b[0m\u001b[1;33m\u001b[0m\u001b[0m\n\u001b[1;32m--> 397\u001b[1;33m             \u001b[0mresp\u001b[0m \u001b[1;33m=\u001b[0m \u001b[0mself\u001b[0m\u001b[1;33m.\u001b[0m\u001b[0m_conn\u001b[0m\u001b[1;33m.\u001b[0m\u001b[0mrequest\u001b[0m\u001b[1;33m(\u001b[0m\u001b[0mmethod\u001b[0m\u001b[1;33m,\u001b[0m \u001b[0murl\u001b[0m\u001b[1;33m,\u001b[0m \u001b[0mbody\u001b[0m\u001b[1;33m=\u001b[0m\u001b[0mbody\u001b[0m\u001b[1;33m,\u001b[0m \u001b[0mheaders\u001b[0m\u001b[1;33m=\u001b[0m\u001b[0mheaders\u001b[0m\u001b[1;33m)\u001b[0m\u001b[1;33m\u001b[0m\u001b[1;33m\u001b[0m\u001b[0m\n\u001b[0m\u001b[0;32m    398\u001b[0m \u001b[1;33m\u001b[0m\u001b[0m\n\u001b[0;32m    399\u001b[0m             \u001b[0mstatuscode\u001b[0m \u001b[1;33m=\u001b[0m \u001b[0mresp\u001b[0m\u001b[1;33m.\u001b[0m\u001b[0mstatus\u001b[0m\u001b[1;33m\u001b[0m\u001b[1;33m\u001b[0m\u001b[0m\n",
      "\u001b[1;32mc:\\learning\\learning\\lib\\site-packages\\urllib3\\request.py\u001b[0m in \u001b[0;36mrequest\u001b[1;34m(self, method, url, fields, headers, **urlopen_kw)\u001b[0m\n\u001b[0;32m     76\u001b[0m             )\n\u001b[0;32m     77\u001b[0m         \u001b[1;32melse\u001b[0m\u001b[1;33m:\u001b[0m\u001b[1;33m\u001b[0m\u001b[1;33m\u001b[0m\u001b[0m\n\u001b[1;32m---> 78\u001b[1;33m             return self.request_encode_body(\n\u001b[0m\u001b[0;32m     79\u001b[0m                 \u001b[0mmethod\u001b[0m\u001b[1;33m,\u001b[0m \u001b[0murl\u001b[0m\u001b[1;33m,\u001b[0m \u001b[0mfields\u001b[0m\u001b[1;33m=\u001b[0m\u001b[0mfields\u001b[0m\u001b[1;33m,\u001b[0m \u001b[0mheaders\u001b[0m\u001b[1;33m=\u001b[0m\u001b[0mheaders\u001b[0m\u001b[1;33m,\u001b[0m \u001b[1;33m**\u001b[0m\u001b[0murlopen_kw\u001b[0m\u001b[1;33m\u001b[0m\u001b[1;33m\u001b[0m\u001b[0m\n\u001b[0;32m     80\u001b[0m             )\n",
      "\u001b[1;32mc:\\learning\\learning\\lib\\site-packages\\urllib3\\request.py\u001b[0m in \u001b[0;36mrequest_encode_body\u001b[1;34m(self, method, url, fields, headers, encode_multipart, multipart_boundary, **urlopen_kw)\u001b[0m\n\u001b[0;32m    168\u001b[0m         \u001b[0mextra_kw\u001b[0m\u001b[1;33m.\u001b[0m\u001b[0mupdate\u001b[0m\u001b[1;33m(\u001b[0m\u001b[0murlopen_kw\u001b[0m\u001b[1;33m)\u001b[0m\u001b[1;33m\u001b[0m\u001b[1;33m\u001b[0m\u001b[0m\n\u001b[0;32m    169\u001b[0m \u001b[1;33m\u001b[0m\u001b[0m\n\u001b[1;32m--> 170\u001b[1;33m         \u001b[1;32mreturn\u001b[0m \u001b[0mself\u001b[0m\u001b[1;33m.\u001b[0m\u001b[0murlopen\u001b[0m\u001b[1;33m(\u001b[0m\u001b[0mmethod\u001b[0m\u001b[1;33m,\u001b[0m \u001b[0murl\u001b[0m\u001b[1;33m,\u001b[0m \u001b[1;33m**\u001b[0m\u001b[0mextra_kw\u001b[0m\u001b[1;33m)\u001b[0m\u001b[1;33m\u001b[0m\u001b[1;33m\u001b[0m\u001b[0m\n\u001b[0m",
      "\u001b[1;32mc:\\learning\\learning\\lib\\site-packages\\urllib3\\poolmanager.py\u001b[0m in \u001b[0;36murlopen\u001b[1;34m(self, method, url, redirect, **kw)\u001b[0m\n\u001b[0;32m    373\u001b[0m             \u001b[0mresponse\u001b[0m \u001b[1;33m=\u001b[0m \u001b[0mconn\u001b[0m\u001b[1;33m.\u001b[0m\u001b[0murlopen\u001b[0m\u001b[1;33m(\u001b[0m\u001b[0mmethod\u001b[0m\u001b[1;33m,\u001b[0m \u001b[0murl\u001b[0m\u001b[1;33m,\u001b[0m \u001b[1;33m**\u001b[0m\u001b[0mkw\u001b[0m\u001b[1;33m)\u001b[0m\u001b[1;33m\u001b[0m\u001b[1;33m\u001b[0m\u001b[0m\n\u001b[0;32m    374\u001b[0m         \u001b[1;32melse\u001b[0m\u001b[1;33m:\u001b[0m\u001b[1;33m\u001b[0m\u001b[1;33m\u001b[0m\u001b[0m\n\u001b[1;32m--> 375\u001b[1;33m             \u001b[0mresponse\u001b[0m \u001b[1;33m=\u001b[0m \u001b[0mconn\u001b[0m\u001b[1;33m.\u001b[0m\u001b[0murlopen\u001b[0m\u001b[1;33m(\u001b[0m\u001b[0mmethod\u001b[0m\u001b[1;33m,\u001b[0m \u001b[0mu\u001b[0m\u001b[1;33m.\u001b[0m\u001b[0mrequest_uri\u001b[0m\u001b[1;33m,\u001b[0m \u001b[1;33m**\u001b[0m\u001b[0mkw\u001b[0m\u001b[1;33m)\u001b[0m\u001b[1;33m\u001b[0m\u001b[1;33m\u001b[0m\u001b[0m\n\u001b[0m\u001b[0;32m    376\u001b[0m \u001b[1;33m\u001b[0m\u001b[0m\n\u001b[0;32m    377\u001b[0m         \u001b[0mredirect_location\u001b[0m \u001b[1;33m=\u001b[0m \u001b[0mredirect\u001b[0m \u001b[1;32mand\u001b[0m \u001b[0mresponse\u001b[0m\u001b[1;33m.\u001b[0m\u001b[0mget_redirect_location\u001b[0m\u001b[1;33m(\u001b[0m\u001b[1;33m)\u001b[0m\u001b[1;33m\u001b[0m\u001b[1;33m\u001b[0m\u001b[0m\n",
      "\u001b[1;32mc:\\learning\\learning\\lib\\site-packages\\urllib3\\connectionpool.py\u001b[0m in \u001b[0;36murlopen\u001b[1;34m(self, method, url, body, headers, retries, redirect, assert_same_host, timeout, pool_timeout, release_conn, chunked, body_pos, **response_kw)\u001b[0m\n\u001b[0;32m    697\u001b[0m \u001b[1;33m\u001b[0m\u001b[0m\n\u001b[0;32m    698\u001b[0m             \u001b[1;31m# Make the request on the httplib connection object.\u001b[0m\u001b[1;33m\u001b[0m\u001b[1;33m\u001b[0m\u001b[1;33m\u001b[0m\u001b[0m\n\u001b[1;32m--> 699\u001b[1;33m             httplib_response = self._make_request(\n\u001b[0m\u001b[0;32m    700\u001b[0m                 \u001b[0mconn\u001b[0m\u001b[1;33m,\u001b[0m\u001b[1;33m\u001b[0m\u001b[1;33m\u001b[0m\u001b[0m\n\u001b[0;32m    701\u001b[0m                 \u001b[0mmethod\u001b[0m\u001b[1;33m,\u001b[0m\u001b[1;33m\u001b[0m\u001b[1;33m\u001b[0m\u001b[0m\n",
      "\u001b[1;32mc:\\learning\\learning\\lib\\site-packages\\urllib3\\connectionpool.py\u001b[0m in \u001b[0;36m_make_request\u001b[1;34m(self, conn, method, url, timeout, chunked, **httplib_request_kw)\u001b[0m\n\u001b[0;32m    443\u001b[0m                     \u001b[1;31m# Python 3 (including for exceptions like SystemExit).\u001b[0m\u001b[1;33m\u001b[0m\u001b[1;33m\u001b[0m\u001b[1;33m\u001b[0m\u001b[0m\n\u001b[0;32m    444\u001b[0m                     \u001b[1;31m# Otherwise it looks like a bug in the code.\u001b[0m\u001b[1;33m\u001b[0m\u001b[1;33m\u001b[0m\u001b[1;33m\u001b[0m\u001b[0m\n\u001b[1;32m--> 445\u001b[1;33m                     \u001b[0msix\u001b[0m\u001b[1;33m.\u001b[0m\u001b[0mraise_from\u001b[0m\u001b[1;33m(\u001b[0m\u001b[0me\u001b[0m\u001b[1;33m,\u001b[0m \u001b[1;32mNone\u001b[0m\u001b[1;33m)\u001b[0m\u001b[1;33m\u001b[0m\u001b[1;33m\u001b[0m\u001b[0m\n\u001b[0m\u001b[0;32m    446\u001b[0m         \u001b[1;32mexcept\u001b[0m \u001b[1;33m(\u001b[0m\u001b[0mSocketTimeout\u001b[0m\u001b[1;33m,\u001b[0m \u001b[0mBaseSSLError\u001b[0m\u001b[1;33m,\u001b[0m \u001b[0mSocketError\u001b[0m\u001b[1;33m)\u001b[0m \u001b[1;32mas\u001b[0m \u001b[0me\u001b[0m\u001b[1;33m:\u001b[0m\u001b[1;33m\u001b[0m\u001b[1;33m\u001b[0m\u001b[0m\n\u001b[0;32m    447\u001b[0m             \u001b[0mself\u001b[0m\u001b[1;33m.\u001b[0m\u001b[0m_raise_timeout\u001b[0m\u001b[1;33m(\u001b[0m\u001b[0merr\u001b[0m\u001b[1;33m=\u001b[0m\u001b[0me\u001b[0m\u001b[1;33m,\u001b[0m \u001b[0murl\u001b[0m\u001b[1;33m=\u001b[0m\u001b[0murl\u001b[0m\u001b[1;33m,\u001b[0m \u001b[0mtimeout_value\u001b[0m\u001b[1;33m=\u001b[0m\u001b[0mread_timeout\u001b[0m\u001b[1;33m)\u001b[0m\u001b[1;33m\u001b[0m\u001b[1;33m\u001b[0m\u001b[0m\n",
      "\u001b[1;32mc:\\learning\\learning\\lib\\site-packages\\urllib3\\packages\\six.py\u001b[0m in \u001b[0;36mraise_from\u001b[1;34m(value, from_value)\u001b[0m\n",
      "\u001b[1;32mc:\\learning\\learning\\lib\\site-packages\\urllib3\\connectionpool.py\u001b[0m in \u001b[0;36m_make_request\u001b[1;34m(self, conn, method, url, timeout, chunked, **httplib_request_kw)\u001b[0m\n\u001b[0;32m    438\u001b[0m                 \u001b[1;31m# Python 3\u001b[0m\u001b[1;33m\u001b[0m\u001b[1;33m\u001b[0m\u001b[1;33m\u001b[0m\u001b[0m\n\u001b[0;32m    439\u001b[0m                 \u001b[1;32mtry\u001b[0m\u001b[1;33m:\u001b[0m\u001b[1;33m\u001b[0m\u001b[1;33m\u001b[0m\u001b[0m\n\u001b[1;32m--> 440\u001b[1;33m                     \u001b[0mhttplib_response\u001b[0m \u001b[1;33m=\u001b[0m \u001b[0mconn\u001b[0m\u001b[1;33m.\u001b[0m\u001b[0mgetresponse\u001b[0m\u001b[1;33m(\u001b[0m\u001b[1;33m)\u001b[0m\u001b[1;33m\u001b[0m\u001b[1;33m\u001b[0m\u001b[0m\n\u001b[0m\u001b[0;32m    441\u001b[0m                 \u001b[1;32mexcept\u001b[0m \u001b[0mBaseException\u001b[0m \u001b[1;32mas\u001b[0m \u001b[0me\u001b[0m\u001b[1;33m:\u001b[0m\u001b[1;33m\u001b[0m\u001b[1;33m\u001b[0m\u001b[0m\n\u001b[0;32m    442\u001b[0m                     \u001b[1;31m# Remove the TypeError from the exception chain in\u001b[0m\u001b[1;33m\u001b[0m\u001b[1;33m\u001b[0m\u001b[1;33m\u001b[0m\u001b[0m\n",
      "\u001b[1;32mC:\\Program Files\\Python39\\lib\\http\\client.py\u001b[0m in \u001b[0;36mgetresponse\u001b[1;34m(self)\u001b[0m\n\u001b[0;32m   1345\u001b[0m         \u001b[1;32mtry\u001b[0m\u001b[1;33m:\u001b[0m\u001b[1;33m\u001b[0m\u001b[1;33m\u001b[0m\u001b[0m\n\u001b[0;32m   1346\u001b[0m             \u001b[1;32mtry\u001b[0m\u001b[1;33m:\u001b[0m\u001b[1;33m\u001b[0m\u001b[1;33m\u001b[0m\u001b[0m\n\u001b[1;32m-> 1347\u001b[1;33m                 \u001b[0mresponse\u001b[0m\u001b[1;33m.\u001b[0m\u001b[0mbegin\u001b[0m\u001b[1;33m(\u001b[0m\u001b[1;33m)\u001b[0m\u001b[1;33m\u001b[0m\u001b[1;33m\u001b[0m\u001b[0m\n\u001b[0m\u001b[0;32m   1348\u001b[0m             \u001b[1;32mexcept\u001b[0m \u001b[0mConnectionError\u001b[0m\u001b[1;33m:\u001b[0m\u001b[1;33m\u001b[0m\u001b[1;33m\u001b[0m\u001b[0m\n\u001b[0;32m   1349\u001b[0m                 \u001b[0mself\u001b[0m\u001b[1;33m.\u001b[0m\u001b[0mclose\u001b[0m\u001b[1;33m(\u001b[0m\u001b[1;33m)\u001b[0m\u001b[1;33m\u001b[0m\u001b[1;33m\u001b[0m\u001b[0m\n",
      "\u001b[1;32mC:\\Program Files\\Python39\\lib\\http\\client.py\u001b[0m in \u001b[0;36mbegin\u001b[1;34m(self)\u001b[0m\n\u001b[0;32m    305\u001b[0m         \u001b[1;31m# read until we get a non-100 response\u001b[0m\u001b[1;33m\u001b[0m\u001b[1;33m\u001b[0m\u001b[1;33m\u001b[0m\u001b[0m\n\u001b[0;32m    306\u001b[0m         \u001b[1;32mwhile\u001b[0m \u001b[1;32mTrue\u001b[0m\u001b[1;33m:\u001b[0m\u001b[1;33m\u001b[0m\u001b[1;33m\u001b[0m\u001b[0m\n\u001b[1;32m--> 307\u001b[1;33m             \u001b[0mversion\u001b[0m\u001b[1;33m,\u001b[0m \u001b[0mstatus\u001b[0m\u001b[1;33m,\u001b[0m \u001b[0mreason\u001b[0m \u001b[1;33m=\u001b[0m \u001b[0mself\u001b[0m\u001b[1;33m.\u001b[0m\u001b[0m_read_status\u001b[0m\u001b[1;33m(\u001b[0m\u001b[1;33m)\u001b[0m\u001b[1;33m\u001b[0m\u001b[1;33m\u001b[0m\u001b[0m\n\u001b[0m\u001b[0;32m    308\u001b[0m             \u001b[1;32mif\u001b[0m \u001b[0mstatus\u001b[0m \u001b[1;33m!=\u001b[0m \u001b[0mCONTINUE\u001b[0m\u001b[1;33m:\u001b[0m\u001b[1;33m\u001b[0m\u001b[1;33m\u001b[0m\u001b[0m\n\u001b[0;32m    309\u001b[0m                 \u001b[1;32mbreak\u001b[0m\u001b[1;33m\u001b[0m\u001b[1;33m\u001b[0m\u001b[0m\n",
      "\u001b[1;32mC:\\Program Files\\Python39\\lib\\http\\client.py\u001b[0m in \u001b[0;36m_read_status\u001b[1;34m(self)\u001b[0m\n\u001b[0;32m    266\u001b[0m \u001b[1;33m\u001b[0m\u001b[0m\n\u001b[0;32m    267\u001b[0m     \u001b[1;32mdef\u001b[0m \u001b[0m_read_status\u001b[0m\u001b[1;33m(\u001b[0m\u001b[0mself\u001b[0m\u001b[1;33m)\u001b[0m\u001b[1;33m:\u001b[0m\u001b[1;33m\u001b[0m\u001b[1;33m\u001b[0m\u001b[0m\n\u001b[1;32m--> 268\u001b[1;33m         \u001b[0mline\u001b[0m \u001b[1;33m=\u001b[0m \u001b[0mstr\u001b[0m\u001b[1;33m(\u001b[0m\u001b[0mself\u001b[0m\u001b[1;33m.\u001b[0m\u001b[0mfp\u001b[0m\u001b[1;33m.\u001b[0m\u001b[0mreadline\u001b[0m\u001b[1;33m(\u001b[0m\u001b[0m_MAXLINE\u001b[0m \u001b[1;33m+\u001b[0m \u001b[1;36m1\u001b[0m\u001b[1;33m)\u001b[0m\u001b[1;33m,\u001b[0m \u001b[1;34m\"iso-8859-1\"\u001b[0m\u001b[1;33m)\u001b[0m\u001b[1;33m\u001b[0m\u001b[1;33m\u001b[0m\u001b[0m\n\u001b[0m\u001b[0;32m    269\u001b[0m         \u001b[1;32mif\u001b[0m \u001b[0mlen\u001b[0m\u001b[1;33m(\u001b[0m\u001b[0mline\u001b[0m\u001b[1;33m)\u001b[0m \u001b[1;33m>\u001b[0m \u001b[0m_MAXLINE\u001b[0m\u001b[1;33m:\u001b[0m\u001b[1;33m\u001b[0m\u001b[1;33m\u001b[0m\u001b[0m\n\u001b[0;32m    270\u001b[0m             \u001b[1;32mraise\u001b[0m \u001b[0mLineTooLong\u001b[0m\u001b[1;33m(\u001b[0m\u001b[1;34m\"status line\"\u001b[0m\u001b[1;33m)\u001b[0m\u001b[1;33m\u001b[0m\u001b[1;33m\u001b[0m\u001b[0m\n",
      "\u001b[1;32mC:\\Program Files\\Python39\\lib\\socket.py\u001b[0m in \u001b[0;36mreadinto\u001b[1;34m(self, b)\u001b[0m\n\u001b[0;32m    702\u001b[0m         \u001b[1;32mwhile\u001b[0m \u001b[1;32mTrue\u001b[0m\u001b[1;33m:\u001b[0m\u001b[1;33m\u001b[0m\u001b[1;33m\u001b[0m\u001b[0m\n\u001b[0;32m    703\u001b[0m             \u001b[1;32mtry\u001b[0m\u001b[1;33m:\u001b[0m\u001b[1;33m\u001b[0m\u001b[1;33m\u001b[0m\u001b[0m\n\u001b[1;32m--> 704\u001b[1;33m                 \u001b[1;32mreturn\u001b[0m \u001b[0mself\u001b[0m\u001b[1;33m.\u001b[0m\u001b[0m_sock\u001b[0m\u001b[1;33m.\u001b[0m\u001b[0mrecv_into\u001b[0m\u001b[1;33m(\u001b[0m\u001b[0mb\u001b[0m\u001b[1;33m)\u001b[0m\u001b[1;33m\u001b[0m\u001b[1;33m\u001b[0m\u001b[0m\n\u001b[0m\u001b[0;32m    705\u001b[0m             \u001b[1;32mexcept\u001b[0m \u001b[0mtimeout\u001b[0m\u001b[1;33m:\u001b[0m\u001b[1;33m\u001b[0m\u001b[1;33m\u001b[0m\u001b[0m\n\u001b[0;32m    706\u001b[0m                 \u001b[0mself\u001b[0m\u001b[1;33m.\u001b[0m\u001b[0m_timeout_occurred\u001b[0m \u001b[1;33m=\u001b[0m \u001b[1;32mTrue\u001b[0m\u001b[1;33m\u001b[0m\u001b[1;33m\u001b[0m\u001b[0m\n",
      "\u001b[1;31mKeyboardInterrupt\u001b[0m: "
     ]
    }
   ],
   "source": [
    "import selenium\n",
    "from selenium import webdriver\n",
    "from webdriver_manager.chrome import ChromeDriverManager\n",
    "\n",
    "def accept_cookies(web_driver):\n",
    "    accept_cookies = wd.find_element_by_xpath('/html/body/div/div[1]/div/a')\n",
    "    accept_cookies.click()\n",
    "\n",
    "# TESTING\n",
    "url = 'https://www.waterstones.com/book/doctor-who-sands-of-time/justin-richards/9781849907675'\n",
    "\n",
    "\n",
    "wd = webdriver.Chrome(ChromeDriverManager().install())\n",
    "wd.get(url)\n",
    "accept_cookies(wd)\n",
    "\n",
    "#test = wd.get_property('data-productid').text\n",
    "#print(test)\n",
    "#wd.close()"
   ]
  },
  {
   "source": [
    "# Get product URLS and basic details:"
   ],
   "cell_type": "markdown",
   "metadata": {}
  },
  {
   "cell_type": "code",
   "execution_count": 1,
   "metadata": {
    "tags": []
   },
   "outputs": [
    {
     "output_type": "stream",
     "name": "stderr",
     "text": [
      "[WDM] - Current google-chrome version is 88.0.4324\n",
      "[WDM] - Get LATEST driver version for 88.0.4324\n",
      "[WDM] - Driver [C:\\Users\\xiaod\\.wdm\\drivers\\chromedriver\\win32\\88.0.4324.96\\chromedriver.exe] found in cache\n",
      " \n",
      "START: Tue Feb  2 23:31:02 2021\n",
      "END: Wed Feb  3 06:54:29 2021\n"
     ]
    }
   ],
   "source": [
    "import selenium\n",
    "from selenium import webdriver\n",
    "from webdriver_manager.chrome import ChromeDriverManager\n",
    "import pandas as pd\n",
    "from random import randint\n",
    "from time import sleep, ctime\n",
    "\n",
    "\n",
    "def accept_cookies(web_driver):\n",
    "    accept_cookies = wd.find_element_by_xpath('/html/body/div/div[1]/div/a')\n",
    "    accept_cookies.click()\n",
    "\n",
    "\n",
    "def get_waterstones_links(web_driver, url, start, end):\n",
    "    \"\"\"Iterates through waterstones thumbnail pages to get each product URL\"\"\"\n",
    "    errors = []\n",
    "    print('START:', ctime())\n",
    "    product_info = []\n",
    "\n",
    "    while start <= end:\n",
    "        page = url + str(start)\n",
    "\n",
    "        try:\n",
    "            web_driver.get(page)\n",
    "            products = wd.find_elements_by_class_name('info-wrap') # search result list\n",
    "\n",
    "            for product in products:\n",
    "                info = {}\n",
    "\n",
    "                info['author'] = product.find_element_by_class_name('author').text\n",
    "                info['price'] = product.find_element_by_class_name('price').text\n",
    "                info['book_format'] = product.find_elements_by_class_name('format')[-1].text\n",
    "                info['product_link'] = product.find_element_by_tag_name('a').get_property('href')\n",
    "                \n",
    "                product_info.append(info)\n",
    "\n",
    "            start += 1\n",
    "\n",
    "        except:\n",
    "            print(f'Failed on this URL: {page}')\n",
    "            start += 1\n",
    "            errors.append(page)\n",
    "    \n",
    "    df = pd.DataFrame(product_info)\n",
    "    df.to_pickle(f'product_links_{start-1}')\n",
    "\n",
    "    print('END:', ctime())\n",
    "\n",
    "\n",
    "wd = webdriver.Chrome(ChromeDriverManager().install())\n",
    "wd.get('https://www.waterstones.com/books/search/')\n",
    "\n",
    "accept_cookies(wd)\n",
    "get_waterstones_links(wd, 'https://www.waterstones.com/books/search/page/', 16000, 20834) # max 20834\n",
    "\n",
    "wd.close()"
   ]
  },
  {
   "cell_type": "code",
   "execution_count": null,
   "metadata": {},
   "outputs": [],
   "source": [
    "len(product_info)"
   ]
  },
  {
   "source": [
    "# Get extra details:"
   ],
   "cell_type": "markdown",
   "metadata": {}
  },
  {
   "source": [
    "import pandas as pd\n",
    "import selenium\n",
    "from selenium import webdriver\n",
    "from webdriver_manager.chrome import ChromeDriverManager\n",
    "from tqdm import tqdm\n",
    "from time import sleep\n",
    "\n",
    "links = pd.read_pickle('product_links_2')\n",
    "links = links.product_link.tolist()\n",
    "\n",
    "books = []\n",
    "wd = webdriver.Chrome(ChromeDriverManager().install())\n",
    "url = 'https://www.waterstones.com/book/doctor-who-sands-of-time/justin-richards/9781849907675'\n",
    "wd.get(url)\n",
    "\n",
    "\n",
    "\n",
    "for link in tqdm(links[:2]):\n",
    "    print(link)\n",
    "    wd.get(link)\n",
    "\n",
    "\n",
    "    title = wd.find_element_by_class_name('book-title').text # //*[@id=\"scope_book_title\"]\n",
    "    publisher = wd.find_element_by_xpath(\"//span[@itemprop='publisher']\").text\n",
    "    ISBN = wd.find_element_by_xpath(\"//span[@itemprop='isbn']\").text\n",
    "    categories = wd.find_element_by_xpath(\"//*[@class='breadcrumbs span12']\").text\n",
    "    full_star = wd.find_elements_by_xpath(\"//span[@class='star-icon full']\")\n",
    "    half_star = wd.find_elements_by_xpath(\"//span[@class='star-icon half']\")\n",
    "    num_of_stars = len(full_star) + len(half_star)*0.5\n",
    "\n",
    "    number_of_reviews = wd.find_elements_by_xpath(\"//a[@class='reviews-trigger']\")\n",
    "    print(len(number_of_reviews))\n",
    "    \n",
    "    pages = wd.find_elements_by_xpath(\"//span[@itemprop='numberOfPages']\")\n",
    "    print(len(number_of_reviews))\n",
    "\n",
    "    weight = wd.find_elements_by_xpath(\"//span[@itemprop='weight']\")\n",
    "    print(len(number_of_reviews))\n",
    "\n",
    "    desc = wd.find_elements_by_xpath(\"//*[@itemprop='description']\")[0].text\n",
    "\n",
    "\n",
    "    extra_information = {'booktitle':title,\n",
    "        'publisher':publisher,\n",
    "        'ISBN':ISBN,\n",
    "        'category':categories,\n",
    "        'num_of_stars':num_of_stars,\n",
    "        'num_of_reviews':number_of_reviews,\n",
    "        'pages':pages,\n",
    "        'weight':weight,\n",
    "        'desc':desc}\n",
    "\n",
    "    books.append(extra_information)\n",
    "\n",
    "print(books)\n",
    "\n"
   ],
   "cell_type": "code",
   "metadata": {
    "tags": []
   },
   "execution_count": 6,
   "outputs": [
    {
     "output_type": "stream",
     "name": "stderr",
     "text": [
      "[WDM] - Current google-chrome version is 88.0.4324\n",
      "[WDM] - Get LATEST driver version for 88.0.4324\n",
      " \n",
      "[WDM] - Driver [C:\\Users\\xiaod\\.wdm\\drivers\\chromedriver\\win32\\88.0.4324.96\\chromedriver.exe] found in cache\n",
      "  0%|          | 0/2 [00:00<?, ?it/s]https://www.waterstones.com/book/lgb-elmo-loves-you-sesame-street/sarah-albee/9780385372831\n",
      " 50%|█████     | 1/2 [00:00<00:00,  1.07it/s]0\n",
      "0\n",
      "0\n",
      "https://www.waterstones.com/book/venemous-animals/peterson/9780395936085\n",
      "100%|██████████| 2/2 [00:01<00:00,  1.15it/s]0\n",
      "0\n",
      "0\n",
      "[{'booktitle': 'LGB Elmo Loves You (Sesame Street) (Hardback)', 'publisher': '', 'ISBN': '', 'category': \"This book can be found in:\\nChildren's & Teenage > Picture books > Characters\", 'num_of_stars': 0.0, 'num_of_reviews': [], 'pages': [<selenium.webdriver.remote.webelement.WebElement (session=\"17adfa14296080e460fa793287650374\", element=\"a52527bc-ca1f-4248-9435-f3f0662e0d8c\")>, <selenium.webdriver.remote.webelement.WebElement (session=\"17adfa14296080e460fa793287650374\", element=\"d62af1b1-da79-4303-b09b-021e1a6603ac\")>, <selenium.webdriver.remote.webelement.WebElement (session=\"17adfa14296080e460fa793287650374\", element=\"bd26afc0-2b97-49ab-83ef-e8d002c01013\")>], 'weight': [<selenium.webdriver.remote.webelement.WebElement (session=\"17adfa14296080e460fa793287650374\", element=\"4d018e9c-1c43-47b7-a059-598fadf81b91\")>, <selenium.webdriver.remote.webelement.WebElement (session=\"17adfa14296080e460fa793287650374\", element=\"20322c28-c62d-44bb-8490-b8936807a879\")>], 'desc': ''}, {'booktitle': 'Venemous Animals - Peterson Field Guides (Paperback)', 'publisher': '', 'ISBN': '', 'category': 'This book can be found in:\\nPopular Science & Nature > Nature Writing > Wildlife', 'num_of_stars': 0.0, 'num_of_reviews': [], 'pages': [], 'weight': [<selenium.webdriver.remote.webelement.WebElement (session=\"17adfa14296080e460fa793287650374\", element=\"0f02084b-7397-4d6a-9498-7433f5a2d817\")>, <selenium.webdriver.remote.webelement.WebElement (session=\"17adfa14296080e460fa793287650374\", element=\"4f635738-4d98-4e5f-8129-80ab06449e00\")>], 'desc': ''}]\n",
      "\n"
     ]
    }
   ]
  },
  {
   "cell_type": "code",
   "execution_count": 13,
   "metadata": {},
   "outputs": [],
   "source": [
    "import pandas as pd\n",
    "\n",
    "# \n",
    "first = pd.read_pickle('product_links_first')\n",
    "second = pd.read_pickle('product_links_second')\n",
    "third = pd.read_pickle('product_links_third')\n",
    "\n",
    "# \n",
    "dfs = [first, second, third]\n",
    "df = pd.concat(dfs, ignore_index=True)\n",
    "\n",
    "df.to_csv('all_info.csv',index=False)\n"
   ]
  },
  {
   "cell_type": "code",
   "execution_count": 14,
   "metadata": {
    "tags": []
   },
   "outputs": [],
   "source": [
    "df1 = pd.read_csv('all_info', nrows=500048)"
   ]
  },
  {
   "cell_type": "code",
   "execution_count": 32,
   "metadata": {},
   "outputs": [],
   "source": [
    "#rename columns with title captial\n",
    "df1.rename(columns={\"author\": \"Author\", \"price\": \"Price\",\"book_format\":\"Book_format\",\"product_link\":\"Product_link\"},inplace=True)"
   ]
  },
  {
   "cell_type": "code",
   "execution_count": 33,
   "metadata": {},
   "outputs": [],
   "source": [
    "df1['ISBN'] = df1['Product_link'].str.split('/').apply(lambda row: row[-1])\n",
    "df1['Title'] = df1['Product_link'].str.split('/').apply(lambda row: row[4]).replace('-',' ')\n",
    "df1['Contributors'] = df1['Product_link'].str.split('/').apply(lambda row: row[5:-1])\n",
    "#split links into different elements"
   ]
  },
  {
   "cell_type": "code",
   "execution_count": 34,
   "metadata": {},
   "outputs": [],
   "source": [
    "#drop the £ \n",
    "df1['Price'] = df1['Price'].str.strip(\"£ \")\n",
    "# convert it to float, for futher analysis\n",
    "df1['Price'] = df1['Price'].astype('float64')\n"
   ]
  },
  {
   "cell_type": "code",
   "execution_count": 35,
   "metadata": {},
   "outputs": [
    {
     "output_type": "execute_result",
     "data": {
      "text/plain": [
       "                                                    Title  \\\n",
       "0                        lgb-elmo-loves-you-sesame-street   \n",
       "1                                        venemous-animals   \n",
       "2            the-little-butterfly-step-into-reading-lvl-2   \n",
       "3                        a-field-guide-to-the-birds-nests   \n",
       "4                                                 hog-eye   \n",
       "...                                                   ...   \n",
       "500043                                          may-gibbs   \n",
       "500044  commentaries-on-the-laws-of-england-of-public-...   \n",
       "500045  mr-asgills-apology-for-an-omission-in-his-late...   \n",
       "500046                               marxs-concept-of-man   \n",
       "500047       etude-de-moulabilit-des-composites-3d-tiss-s   \n",
       "\n",
       "                           Author                    Contributors  Price  \\\n",
       "0                     Sarah Albee                   [sarah-albee]   3.99   \n",
       "1                        Peterson                      [peterson]  11.99   \n",
       "2                   Sherry Shahan                 [sherry-shahan]   3.99   \n",
       "3                 Hal H. Harrison                [hal-h-harrison]  11.99   \n",
       "4                  Susan Meddaugh                [susan-meddaugh]   3.99   \n",
       "...                           ...                             ...    ...   \n",
       "500043              Robert Holden  [robert-holden, jane-brummitt]  25.00   \n",
       "500044  Knight William Blackstone     [knight-william-blackstone]  15.45   \n",
       "500045                John Asgill                   [john-asgill]  34.95   \n",
       "500046                Erich Fromm      [erich-fromm, t-bottomore]   9.00   \n",
       "500047                    Nawab-Y                       [nawab-y]  23.00   \n",
       "\n",
       "       Book_format           ISBN  \\\n",
       "0         Hardback  9780385372831   \n",
       "1        Paperback  9780395936085   \n",
       "2        Paperback  9780385371896   \n",
       "3        Paperback  9780395936092   \n",
       "4        Paperback  9780395937464   \n",
       "...            ...            ...   \n",
       "500043    Hardback  9781742701509   \n",
       "500044   Paperback  9781594625558   \n",
       "500045   Paperback  9785518817418   \n",
       "500046   Paperback  9781614270218   \n",
       "500047   Paperback  9783838180199   \n",
       "\n",
       "                                             Product_link  \n",
       "0       https://www.waterstones.com/book/lgb-elmo-love...  \n",
       "1       https://www.waterstones.com/book/venemous-anim...  \n",
       "2       https://www.waterstones.com/book/the-little-bu...  \n",
       "3       https://www.waterstones.com/book/a-field-guide...  \n",
       "4       https://www.waterstones.com/book/hog-eye/susan...  \n",
       "...                                                   ...  \n",
       "500043  https://www.waterstones.com/book/may-gibbs/rob...  \n",
       "500044  https://www.waterstones.com/book/commentaries-...  \n",
       "500045  https://www.waterstones.com/book/mr-asgills-ap...  \n",
       "500046  https://www.waterstones.com/book/marxs-concept...  \n",
       "500047  https://www.waterstones.com/book/etude-de-moul...  \n",
       "\n",
       "[500048 rows x 7 columns]"
      ],
      "text/html": "<div>\n<style scoped>\n    .dataframe tbody tr th:only-of-type {\n        vertical-align: middle;\n    }\n\n    .dataframe tbody tr th {\n        vertical-align: top;\n    }\n\n    .dataframe thead th {\n        text-align: right;\n    }\n</style>\n<table border=\"1\" class=\"dataframe\">\n  <thead>\n    <tr style=\"text-align: right;\">\n      <th></th>\n      <th>Title</th>\n      <th>Author</th>\n      <th>Contributors</th>\n      <th>Price</th>\n      <th>Book_format</th>\n      <th>ISBN</th>\n      <th>Product_link</th>\n    </tr>\n  </thead>\n  <tbody>\n    <tr>\n      <th>0</th>\n      <td>lgb-elmo-loves-you-sesame-street</td>\n      <td>Sarah Albee</td>\n      <td>[sarah-albee]</td>\n      <td>3.99</td>\n      <td>Hardback</td>\n      <td>9780385372831</td>\n      <td>https://www.waterstones.com/book/lgb-elmo-love...</td>\n    </tr>\n    <tr>\n      <th>1</th>\n      <td>venemous-animals</td>\n      <td>Peterson</td>\n      <td>[peterson]</td>\n      <td>11.99</td>\n      <td>Paperback</td>\n      <td>9780395936085</td>\n      <td>https://www.waterstones.com/book/venemous-anim...</td>\n    </tr>\n    <tr>\n      <th>2</th>\n      <td>the-little-butterfly-step-into-reading-lvl-2</td>\n      <td>Sherry Shahan</td>\n      <td>[sherry-shahan]</td>\n      <td>3.99</td>\n      <td>Paperback</td>\n      <td>9780385371896</td>\n      <td>https://www.waterstones.com/book/the-little-bu...</td>\n    </tr>\n    <tr>\n      <th>3</th>\n      <td>a-field-guide-to-the-birds-nests</td>\n      <td>Hal H. Harrison</td>\n      <td>[hal-h-harrison]</td>\n      <td>11.99</td>\n      <td>Paperback</td>\n      <td>9780395936092</td>\n      <td>https://www.waterstones.com/book/a-field-guide...</td>\n    </tr>\n    <tr>\n      <th>4</th>\n      <td>hog-eye</td>\n      <td>Susan Meddaugh</td>\n      <td>[susan-meddaugh]</td>\n      <td>3.99</td>\n      <td>Paperback</td>\n      <td>9780395937464</td>\n      <td>https://www.waterstones.com/book/hog-eye/susan...</td>\n    </tr>\n    <tr>\n      <th>...</th>\n      <td>...</td>\n      <td>...</td>\n      <td>...</td>\n      <td>...</td>\n      <td>...</td>\n      <td>...</td>\n      <td>...</td>\n    </tr>\n    <tr>\n      <th>500043</th>\n      <td>may-gibbs</td>\n      <td>Robert Holden</td>\n      <td>[robert-holden, jane-brummitt]</td>\n      <td>25.00</td>\n      <td>Hardback</td>\n      <td>9781742701509</td>\n      <td>https://www.waterstones.com/book/may-gibbs/rob...</td>\n    </tr>\n    <tr>\n      <th>500044</th>\n      <td>commentaries-on-the-laws-of-england-of-public-...</td>\n      <td>Knight William Blackstone</td>\n      <td>[knight-william-blackstone]</td>\n      <td>15.45</td>\n      <td>Paperback</td>\n      <td>9781594625558</td>\n      <td>https://www.waterstones.com/book/commentaries-...</td>\n    </tr>\n    <tr>\n      <th>500045</th>\n      <td>mr-asgills-apology-for-an-omission-in-his-late...</td>\n      <td>John Asgill</td>\n      <td>[john-asgill]</td>\n      <td>34.95</td>\n      <td>Paperback</td>\n      <td>9785518817418</td>\n      <td>https://www.waterstones.com/book/mr-asgills-ap...</td>\n    </tr>\n    <tr>\n      <th>500046</th>\n      <td>marxs-concept-of-man</td>\n      <td>Erich Fromm</td>\n      <td>[erich-fromm, t-bottomore]</td>\n      <td>9.00</td>\n      <td>Paperback</td>\n      <td>9781614270218</td>\n      <td>https://www.waterstones.com/book/marxs-concept...</td>\n    </tr>\n    <tr>\n      <th>500047</th>\n      <td>etude-de-moulabilit-des-composites-3d-tiss-s</td>\n      <td>Nawab-Y</td>\n      <td>[nawab-y]</td>\n      <td>23.00</td>\n      <td>Paperback</td>\n      <td>9783838180199</td>\n      <td>https://www.waterstones.com/book/etude-de-moul...</td>\n    </tr>\n  </tbody>\n</table>\n<p>500048 rows × 7 columns</p>\n</div>"
     },
     "metadata": {},
     "execution_count": 35
    }
   ],
   "source": [
    "df2 = test[[ 'Title','Author','Contributors','Price','Book_format','ISBN','Product_link']].copy()\n",
    "df2"
   ]
  },
  {
   "cell_type": "code",
   "execution_count": 36,
   "metadata": {},
   "outputs": [],
   "source": [
    "df2['ISBN'] = df['ISBN'].astype('int64')"
   ]
  },
  {
   "cell_type": "code",
   "execution_count": 37,
   "metadata": {},
   "outputs": [],
   "source": [
    "df2.to_csv('book_info.csv')"
   ]
  },
  {
   "cell_type": "code",
   "execution_count": 38,
   "metadata": {},
   "outputs": [
    {
     "output_type": "execute_result",
     "data": {
      "text/plain": [
       "(500048, 7)"
      ]
     },
     "metadata": {},
     "execution_count": 38
    }
   ],
   "source": [
    "df2.shape"
   ]
  }
 ]
}