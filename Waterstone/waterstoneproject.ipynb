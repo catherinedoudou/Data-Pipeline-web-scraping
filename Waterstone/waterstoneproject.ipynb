{
 "metadata": {
  "language_info": {
   "codemirror_mode": {
    "name": "ipython",
    "version": 3
   },
   "file_extension": ".py",
   "mimetype": "text/x-python",
   "name": "python",
   "nbconvert_exporter": "python",
   "pygments_lexer": "ipython3",
   "version": "3.9.1-final"
  },
  "orig_nbformat": 2,
  "kernelspec": {
   "name": "python3",
   "display_name": "Python 3",
   "language": "python"
  }
 },
 "nbformat": 4,
 "nbformat_minor": 2,
 "cells": [
  {
   "source": [
    "# Quick testing:"
   ],
   "cell_type": "markdown",
   "metadata": {}
  },
  {
   "source": [
    "# Get product URLS and basic details:"
   ],
   "cell_type": "markdown",
   "metadata": {}
  },
  {
   "cell_type": "code",
   "execution_count": 1,
   "metadata": {
    "tags": []
   },
   "outputs": [
    {
     "output_type": "stream",
     "name": "stderr",
     "text": [
      "[WDM] - Current google-chrome version is 88.0.4324\n",
      "[WDM] - Get LATEST driver version for 88.0.4324\n",
      "[WDM] - Driver [C:\\Users\\xiaod\\.wdm\\drivers\\chromedriver\\win32\\88.0.4324.96\\chromedriver.exe] found in cache\n",
      " \n",
      "START: Tue Feb  2 23:31:02 2021\n",
      "END: Wed Feb  3 06:54:29 2021\n"
     ]
    }
   ],
   "source": [
    "import selenium\n",
    "from selenium import webdriver\n",
    "from webdriver_manager.chrome import ChromeDriverManager\n",
    "import pandas as pd\n",
    "from random import randint\n",
    "from time import sleep, ctime\n",
    "\n",
    "\n",
    "def accept_cookies(wd):\n",
    "    accept_cookies = wd.find_element_by_xpath('/html/body/div/div[1]/div/a')\n",
    "    accept_cookies.click()\n",
    "\n",
    "\n",
    "def get_waterstones_links(web_driver, url, start, end):\n",
    "    \"\"\"Iterates through waterstones thumbnail pages to get each product URL\"\"\"\n",
    "    errors = []\n",
    "    print('START:', ctime())\n",
    "    product_info = []\n",
    "\n",
    "    while start <= end:\n",
    "        page = url + str(start)\n",
    "\n",
    "        try:\n",
    "            web_driver.get(page)\n",
    "            products = wd.find_elements_by_class_name('info-wrap') # search result list\n",
    "\n",
    "            for product in products:\n",
    "                info = {}\n",
    "\n",
    "                info['author'] = product.find_element_by_class_name('author').text\n",
    "                info['price'] = product.find_element_by_class_name('price').text\n",
    "                info['book_format'] = product.find_elements_by_class_name('format')[-1].text\n",
    "                info['product_link'] = product.find_element_by_tag_name('a').get_property('href')\n",
    "                \n",
    "                product_info.append(info)\n",
    "\n",
    "            start += 1\n",
    "\n",
    "        except:\n",
    "            print(f'Failed on this URL: {page}')\n",
    "            start += 1\n",
    "            errors.append(page)\n",
    "    \n",
    "    df = pd.DataFrame(product_info)\n",
    "    df.to_pickle(f'product_links_{start-1}')\n",
    "\n",
    "    print('END:', ctime())\n",
    "\n",
    "\n",
    "wd = webdriver.Chrome(ChromeDriverManager().install())\n",
    "wd.get('https://www.waterstones.com/books/search/')\n",
    "\n",
    "accept_cookies(wd)\n",
    "get_waterstones_links(wd, 'https://www.waterstones.com/books/search/page/', 16000, 20834) # max 20834\n",
    "\n",
    "wd.close()"
   ]
  },
  {
   "cell_type": "code",
   "execution_count": null,
   "metadata": {},
   "outputs": [],
   "source": [
    "len(product_info)"
   ]
  },
  {
   "source": [
    "# Get extra details:"
   ],
   "cell_type": "markdown",
   "metadata": {}
  },
  {
   "source": [
    "import pandas as pd\n",
    "import selenium\n",
    "from selenium import webdriver\n",
    "from webdriver_manager.chrome import ChromeDriverManager\n",
    "from tqdm import tqdm\n",
    "from time import sleep\n",
    "\n",
    "links = pd.read_pickle('product_links_2')\n",
    "links = links.product_link.tolist()\n",
    "\n",
    "books = []\n",
    "wd = webdriver.Chrome(ChromeDriverManager().install())\n",
    "url = 'https://www.waterstones.com/book/doctor-who-sands-of-time/justin-richards/9781849907675'\n",
    "wd.get(url)\n",
    "\n",
    "\n",
    "\n",
    "for link in tqdm(links[:2]):\n",
    "    print(link)\n",
    "    wd.get(link)\n",
    "\n",
    "\n",
    "    title = wd.find_element_by_class_name('book-title').text # //*[@id=\"scope_book_title\"]\n",
    "    publisher = wd.find_element_by_xpath(\"//span[@itemprop='publisher']\").text\n",
    "    ISBN = wd.find_element_by_xpath(\"//span[@itemprop='isbn']\").text\n",
    "    categories = wd.find_element_by_xpath(\"//*[@class='breadcrumbs span12']\").text\n",
    "    full_star = wd.find_elements_by_xpath(\"//span[@class='star-icon full']\")\n",
    "    half_star = wd.find_elements_by_xpath(\"//span[@class='star-icon half']\")\n",
    "    num_of_stars = len(full_star) + len(half_star)*0.5\n",
    "    number_of_reviews = wd.find_elements_by_xpath(\"//a[@class='reviews-trigger']\")\n",
    "    pages = wd.find_elements_by_xpath(\"//span[@itemprop='numberOfPages']\")\n",
    "    weight = wd.find_elements_by_xpath(\"//span[@itemprop='weight']\")\n",
    "    desc = wd.find_elements_by_xpath(\"//*[@itemprop='description']\")[0].text\n",
    "\n",
    "\n",
    "    extra_information = {'booktitle':title,\n",
    "        'publisher':publisher,\n",
    "        'ISBN':ISBN,\n",
    "        'category':categories,\n",
    "        'num_of_stars':num_of_stars,\n",
    "        'num_of_reviews':number_of_reviews,\n",
    "        'pages':pages,\n",
    "        'weight':weight,\n",
    "        'desc':desc}\n",
    "\n",
    "    books.append(extra_information)\n",
    "\n",
    "print(books)\n",
    "\n"
   ],
   "cell_type": "code",
   "metadata": {
    "tags": []
   },
   "execution_count": 6,
   "outputs": [
    {
     "output_type": "stream",
     "name": "stderr",
     "text": [
      "[WDM] - Current google-chrome version is 88.0.4324\n",
      "[WDM] - Get LATEST driver version for 88.0.4324\n",
      " \n",
      "[WDM] - Driver [C:\\Users\\xiaod\\.wdm\\drivers\\chromedriver\\win32\\88.0.4324.96\\chromedriver.exe] found in cache\n",
      "  0%|          | 0/2 [00:00<?, ?it/s]https://www.waterstones.com/book/lgb-elmo-loves-you-sesame-street/sarah-albee/9780385372831\n",
      " 50%|█████     | 1/2 [00:00<00:00,  1.07it/s]0\n",
      "0\n",
      "0\n",
      "https://www.waterstones.com/book/venemous-animals/peterson/9780395936085\n",
      "100%|██████████| 2/2 [00:01<00:00,  1.15it/s]0\n",
      "0\n",
      "0\n",
      "[{'booktitle': 'LGB Elmo Loves You (Sesame Street) (Hardback)', 'publisher': '', 'ISBN': '', 'category': \"This book can be found in:\\nChildren's & Teenage > Picture books > Characters\", 'num_of_stars': 0.0, 'num_of_reviews': [], 'pages': [<selenium.webdriver.remote.webelement.WebElement (session=\"17adfa14296080e460fa793287650374\", element=\"a52527bc-ca1f-4248-9435-f3f0662e0d8c\")>, <selenium.webdriver.remote.webelement.WebElement (session=\"17adfa14296080e460fa793287650374\", element=\"d62af1b1-da79-4303-b09b-021e1a6603ac\")>, <selenium.webdriver.remote.webelement.WebElement (session=\"17adfa14296080e460fa793287650374\", element=\"bd26afc0-2b97-49ab-83ef-e8d002c01013\")>], 'weight': [<selenium.webdriver.remote.webelement.WebElement (session=\"17adfa14296080e460fa793287650374\", element=\"4d018e9c-1c43-47b7-a059-598fadf81b91\")>, <selenium.webdriver.remote.webelement.WebElement (session=\"17adfa14296080e460fa793287650374\", element=\"20322c28-c62d-44bb-8490-b8936807a879\")>], 'desc': ''}, {'booktitle': 'Venemous Animals - Peterson Field Guides (Paperback)', 'publisher': '', 'ISBN': '', 'category': 'This book can be found in:\\nPopular Science & Nature > Nature Writing > Wildlife', 'num_of_stars': 0.0, 'num_of_reviews': [], 'pages': [], 'weight': [<selenium.webdriver.remote.webelement.WebElement (session=\"17adfa14296080e460fa793287650374\", element=\"0f02084b-7397-4d6a-9498-7433f5a2d817\")>, <selenium.webdriver.remote.webelement.WebElement (session=\"17adfa14296080e460fa793287650374\", element=\"4f635738-4d98-4e5f-8129-80ab06449e00\")>], 'desc': ''}]\n",
      "\n"
     ]
    }
   ]
  },
  {
   "cell_type": "code",
   "execution_count": 10,
   "metadata": {},
   "outputs": [],
   "source": [
    "import pandas as pd\n",
    "\n",
    "# \n",
    "first = pd.read_pickle('product_links_first')\n",
    "second = pd.read_pickle('product_links_second')\n",
    "third = pd.read_pickle('product_links_third')\n",
    "\n",
    "# \n",
    "dfs = [first, second, third]\n",
    "df = pd.concat(dfs, ignore_index=True)\n",
    "\n",
    "df.to_csv('all_info.csv',index=False)\n"
   ]
  },
  {
   "cell_type": "code",
   "execution_count": 11,
   "metadata": {
    "tags": []
   },
   "outputs": [],
   "source": [
    "df1 = pd.read_csv('all_info', nrows=500048)"
   ]
  },
  {
   "cell_type": "code",
   "execution_count": 12,
   "metadata": {},
   "outputs": [],
   "source": [
    "#rename columns with title captial\n",
    "df1.rename(columns={\"author\": \"Author\", \"price\": \"Price\",\"book_format\":\"Book_format\",\"product_link\":\"Product_link\"},inplace=True)"
   ]
  },
  {
   "cell_type": "code",
   "execution_count": 29,
   "metadata": {},
   "outputs": [],
   "source": [
    "df1['ISBN'] = df1['Product_link'].str.split('/').apply(lambda row: row[-1])\n",
    "df1['Title'] = df1['Product_link'].str.split('/').apply(lambda row: row[4]).replace('-',' ')\n",
    "df1['Contributors'] = df1['Product_link'].str.split('/').apply(lambda row: row[5:-1])\n",
    "#split links into different elements"
   ]
  },
  {
   "cell_type": "code",
   "execution_count": 53,
   "metadata": {},
   "outputs": [
    {
     "output_type": "error",
     "ename": "AttributeError",
     "evalue": "Can only use .str accessor with string values!",
     "traceback": [
      "\u001b[1;31m---------------------------------------------------------------------------\u001b[0m",
      "\u001b[1;31mAttributeError\u001b[0m                            Traceback (most recent call last)",
      "\u001b[1;32m<ipython-input-53-669fea0b3840>\u001b[0m in \u001b[0;36m<module>\u001b[1;34m\u001b[0m\n\u001b[0;32m      1\u001b[0m \u001b[1;31m#drop the £\u001b[0m\u001b[1;33m\u001b[0m\u001b[1;33m\u001b[0m\u001b[1;33m\u001b[0m\u001b[0m\n\u001b[1;32m----> 2\u001b[1;33m \u001b[0mdf1\u001b[0m\u001b[1;33m[\u001b[0m\u001b[1;34m'Price'\u001b[0m\u001b[1;33m]\u001b[0m \u001b[1;33m=\u001b[0m \u001b[0mdf1\u001b[0m\u001b[1;33m[\u001b[0m\u001b[1;34m'Price'\u001b[0m\u001b[1;33m]\u001b[0m\u001b[1;33m.\u001b[0m\u001b[0mstr\u001b[0m\u001b[1;33m.\u001b[0m\u001b[0mstrip\u001b[0m\u001b[1;33m(\u001b[0m\u001b[1;34m\"£ \"\u001b[0m\u001b[1;33m)\u001b[0m\u001b[1;33m\u001b[0m\u001b[1;33m\u001b[0m\u001b[0m\n\u001b[0m\u001b[0;32m      3\u001b[0m \u001b[1;31m# convert it to float, for futher analysis\u001b[0m\u001b[1;33m\u001b[0m\u001b[1;33m\u001b[0m\u001b[1;33m\u001b[0m\u001b[0m\n\u001b[0;32m      4\u001b[0m \u001b[0mdf1\u001b[0m\u001b[1;33m[\u001b[0m\u001b[1;34m'Price'\u001b[0m\u001b[1;33m]\u001b[0m \u001b[1;33m=\u001b[0m \u001b[0mdf1\u001b[0m\u001b[1;33m[\u001b[0m\u001b[1;34m'Price'\u001b[0m\u001b[1;33m]\u001b[0m\u001b[1;33m.\u001b[0m\u001b[0mastype\u001b[0m\u001b[1;33m(\u001b[0m\u001b[1;34m'float64'\u001b[0m\u001b[1;33m)\u001b[0m\u001b[1;33m\u001b[0m\u001b[1;33m\u001b[0m\u001b[0m\n",
      "\u001b[1;32mc:\\learning\\learning\\lib\\site-packages\\pandas\\core\\generic.py\u001b[0m in \u001b[0;36m__getattr__\u001b[1;34m(self, name)\u001b[0m\n\u001b[0;32m   5454\u001b[0m             \u001b[1;32mor\u001b[0m \u001b[0mname\u001b[0m \u001b[1;32min\u001b[0m \u001b[0mself\u001b[0m\u001b[1;33m.\u001b[0m\u001b[0m_accessors\u001b[0m\u001b[1;33m\u001b[0m\u001b[1;33m\u001b[0m\u001b[0m\n\u001b[0;32m   5455\u001b[0m         ):\n\u001b[1;32m-> 5456\u001b[1;33m             \u001b[1;32mreturn\u001b[0m \u001b[0mobject\u001b[0m\u001b[1;33m.\u001b[0m\u001b[0m__getattribute__\u001b[0m\u001b[1;33m(\u001b[0m\u001b[0mself\u001b[0m\u001b[1;33m,\u001b[0m \u001b[0mname\u001b[0m\u001b[1;33m)\u001b[0m\u001b[1;33m\u001b[0m\u001b[1;33m\u001b[0m\u001b[0m\n\u001b[0m\u001b[0;32m   5457\u001b[0m         \u001b[1;32melse\u001b[0m\u001b[1;33m:\u001b[0m\u001b[1;33m\u001b[0m\u001b[1;33m\u001b[0m\u001b[0m\n\u001b[0;32m   5458\u001b[0m             \u001b[1;32mif\u001b[0m \u001b[0mself\u001b[0m\u001b[1;33m.\u001b[0m\u001b[0m_info_axis\u001b[0m\u001b[1;33m.\u001b[0m\u001b[0m_can_hold_identifiers_and_holds_name\u001b[0m\u001b[1;33m(\u001b[0m\u001b[0mname\u001b[0m\u001b[1;33m)\u001b[0m\u001b[1;33m:\u001b[0m\u001b[1;33m\u001b[0m\u001b[1;33m\u001b[0m\u001b[0m\n",
      "\u001b[1;32mc:\\learning\\learning\\lib\\site-packages\\pandas\\core\\accessor.py\u001b[0m in \u001b[0;36m__get__\u001b[1;34m(self, obj, cls)\u001b[0m\n\u001b[0;32m    178\u001b[0m             \u001b[1;31m# we're accessing the attribute of the class, i.e., Dataset.geo\u001b[0m\u001b[1;33m\u001b[0m\u001b[1;33m\u001b[0m\u001b[1;33m\u001b[0m\u001b[0m\n\u001b[0;32m    179\u001b[0m             \u001b[1;32mreturn\u001b[0m \u001b[0mself\u001b[0m\u001b[1;33m.\u001b[0m\u001b[0m_accessor\u001b[0m\u001b[1;33m\u001b[0m\u001b[1;33m\u001b[0m\u001b[0m\n\u001b[1;32m--> 180\u001b[1;33m         \u001b[0maccessor_obj\u001b[0m \u001b[1;33m=\u001b[0m \u001b[0mself\u001b[0m\u001b[1;33m.\u001b[0m\u001b[0m_accessor\u001b[0m\u001b[1;33m(\u001b[0m\u001b[0mobj\u001b[0m\u001b[1;33m)\u001b[0m\u001b[1;33m\u001b[0m\u001b[1;33m\u001b[0m\u001b[0m\n\u001b[0m\u001b[0;32m    181\u001b[0m         \u001b[1;31m# Replace the property with the accessor object. Inspired by:\u001b[0m\u001b[1;33m\u001b[0m\u001b[1;33m\u001b[0m\u001b[1;33m\u001b[0m\u001b[0m\n\u001b[0;32m    182\u001b[0m         \u001b[1;31m# https://www.pydanny.com/cached-property.html\u001b[0m\u001b[1;33m\u001b[0m\u001b[1;33m\u001b[0m\u001b[1;33m\u001b[0m\u001b[0m\n",
      "\u001b[1;32mc:\\learning\\learning\\lib\\site-packages\\pandas\\core\\strings\\accessor.py\u001b[0m in \u001b[0;36m__init__\u001b[1;34m(self, data)\u001b[0m\n\u001b[0;32m    152\u001b[0m         \u001b[1;32mfrom\u001b[0m \u001b[0mpandas\u001b[0m\u001b[1;33m.\u001b[0m\u001b[0mcore\u001b[0m\u001b[1;33m.\u001b[0m\u001b[0marrays\u001b[0m\u001b[1;33m.\u001b[0m\u001b[0mstring_\u001b[0m \u001b[1;32mimport\u001b[0m \u001b[0mStringDtype\u001b[0m\u001b[1;33m\u001b[0m\u001b[1;33m\u001b[0m\u001b[0m\n\u001b[0;32m    153\u001b[0m \u001b[1;33m\u001b[0m\u001b[0m\n\u001b[1;32m--> 154\u001b[1;33m         \u001b[0mself\u001b[0m\u001b[1;33m.\u001b[0m\u001b[0m_inferred_dtype\u001b[0m \u001b[1;33m=\u001b[0m \u001b[0mself\u001b[0m\u001b[1;33m.\u001b[0m\u001b[0m_validate\u001b[0m\u001b[1;33m(\u001b[0m\u001b[0mdata\u001b[0m\u001b[1;33m)\u001b[0m\u001b[1;33m\u001b[0m\u001b[1;33m\u001b[0m\u001b[0m\n\u001b[0m\u001b[0;32m    155\u001b[0m         \u001b[0mself\u001b[0m\u001b[1;33m.\u001b[0m\u001b[0m_is_categorical\u001b[0m \u001b[1;33m=\u001b[0m \u001b[0mis_categorical_dtype\u001b[0m\u001b[1;33m(\u001b[0m\u001b[0mdata\u001b[0m\u001b[1;33m.\u001b[0m\u001b[0mdtype\u001b[0m\u001b[1;33m)\u001b[0m\u001b[1;33m\u001b[0m\u001b[1;33m\u001b[0m\u001b[0m\n\u001b[0;32m    156\u001b[0m         \u001b[0mself\u001b[0m\u001b[1;33m.\u001b[0m\u001b[0m_is_string\u001b[0m \u001b[1;33m=\u001b[0m \u001b[0misinstance\u001b[0m\u001b[1;33m(\u001b[0m\u001b[0mdata\u001b[0m\u001b[1;33m.\u001b[0m\u001b[0mdtype\u001b[0m\u001b[1;33m,\u001b[0m \u001b[0mStringDtype\u001b[0m\u001b[1;33m)\u001b[0m\u001b[1;33m\u001b[0m\u001b[1;33m\u001b[0m\u001b[0m\n",
      "\u001b[1;32mc:\\learning\\learning\\lib\\site-packages\\pandas\\core\\strings\\accessor.py\u001b[0m in \u001b[0;36m_validate\u001b[1;34m(data)\u001b[0m\n\u001b[0;32m    216\u001b[0m \u001b[1;33m\u001b[0m\u001b[0m\n\u001b[0;32m    217\u001b[0m         \u001b[1;32mif\u001b[0m \u001b[0minferred_dtype\u001b[0m \u001b[1;32mnot\u001b[0m \u001b[1;32min\u001b[0m \u001b[0mallowed_types\u001b[0m\u001b[1;33m:\u001b[0m\u001b[1;33m\u001b[0m\u001b[1;33m\u001b[0m\u001b[0m\n\u001b[1;32m--> 218\u001b[1;33m             \u001b[1;32mraise\u001b[0m \u001b[0mAttributeError\u001b[0m\u001b[1;33m(\u001b[0m\u001b[1;34m\"Can only use .str accessor with string values!\"\u001b[0m\u001b[1;33m)\u001b[0m\u001b[1;33m\u001b[0m\u001b[1;33m\u001b[0m\u001b[0m\n\u001b[0m\u001b[0;32m    219\u001b[0m         \u001b[1;32mreturn\u001b[0m \u001b[0minferred_dtype\u001b[0m\u001b[1;33m\u001b[0m\u001b[1;33m\u001b[0m\u001b[0m\n\u001b[0;32m    220\u001b[0m \u001b[1;33m\u001b[0m\u001b[0m\n",
      "\u001b[1;31mAttributeError\u001b[0m: Can only use .str accessor with string values!"
     ]
    }
   ],
   "source": [
    "#drop the £ \n",
    "df1['Price'] = df1['Price'].str.strip(\"£ \")\n",
    "# convert it to float, for futher analysis\n",
    "df1['Price'] = df1['Price'].astype('float64')"
   ]
  },
  {
   "cell_type": "code",
   "execution_count": 44,
   "metadata": {},
   "outputs": [],
   "source": [
    "df1['Title'] = df1['Title'].str.replace('-',' ')"
   ]
  },
  {
   "cell_type": "code",
   "execution_count": 45,
   "metadata": {},
   "outputs": [
    {
     "output_type": "execute_result",
     "data": {
      "text/plain": [
       "                                                    Title  \\\n",
       "0                        lgb elmo loves you sesame street   \n",
       "1                                        venemous animals   \n",
       "2            the little butterfly step into reading lvl 2   \n",
       "3                        a field guide to the birds nests   \n",
       "4                                                 hog eye   \n",
       "...                                                   ...   \n",
       "500043                                          may gibbs   \n",
       "500044  commentaries on the laws of england of public ...   \n",
       "500045  mr asgills apology for an omission in his late...   \n",
       "500046                               marxs concept of man   \n",
       "500047       etude de moulabilit des composites 3d tiss s   \n",
       "\n",
       "                           Author                    Contributors  Price  \\\n",
       "0                     Sarah Albee                   [sarah-albee]   3.99   \n",
       "1                        Peterson                      [peterson]  11.99   \n",
       "2                   Sherry Shahan                 [sherry-shahan]   3.99   \n",
       "3                 Hal H. Harrison                [hal-h-harrison]  11.99   \n",
       "4                  Susan Meddaugh                [susan-meddaugh]   3.99   \n",
       "...                           ...                             ...    ...   \n",
       "500043              Robert Holden  [robert-holden, jane-brummitt]  25.00   \n",
       "500044  Knight William Blackstone     [knight-william-blackstone]  15.45   \n",
       "500045                John Asgill                   [john-asgill]  34.95   \n",
       "500046                Erich Fromm      [erich-fromm, t-bottomore]   9.00   \n",
       "500047                    Nawab-Y                       [nawab-y]  23.00   \n",
       "\n",
       "       Book_format           ISBN  \\\n",
       "0         Hardback  9780385372831   \n",
       "1        Paperback  9780395936085   \n",
       "2        Paperback  9780385371896   \n",
       "3        Paperback  9780395936092   \n",
       "4        Paperback  9780395937464   \n",
       "...            ...            ...   \n",
       "500043    Hardback  9781742701509   \n",
       "500044   Paperback  9781594625558   \n",
       "500045   Paperback  9785518817418   \n",
       "500046   Paperback  9781614270218   \n",
       "500047   Paperback  9783838180199   \n",
       "\n",
       "                                             Product_link  \n",
       "0       https://www.waterstones.com/book/lgb-elmo-love...  \n",
       "1       https://www.waterstones.com/book/venemous-anim...  \n",
       "2       https://www.waterstones.com/book/the-little-bu...  \n",
       "3       https://www.waterstones.com/book/a-field-guide...  \n",
       "4       https://www.waterstones.com/book/hog-eye/susan...  \n",
       "...                                                   ...  \n",
       "500043  https://www.waterstones.com/book/may-gibbs/rob...  \n",
       "500044  https://www.waterstones.com/book/commentaries-...  \n",
       "500045  https://www.waterstones.com/book/mr-asgills-ap...  \n",
       "500046  https://www.waterstones.com/book/marxs-concept...  \n",
       "500047  https://www.waterstones.com/book/etude-de-moul...  \n",
       "\n",
       "[500048 rows x 7 columns]"
      ],
      "text/html": "<div>\n<style scoped>\n    .dataframe tbody tr th:only-of-type {\n        vertical-align: middle;\n    }\n\n    .dataframe tbody tr th {\n        vertical-align: top;\n    }\n\n    .dataframe thead th {\n        text-align: right;\n    }\n</style>\n<table border=\"1\" class=\"dataframe\">\n  <thead>\n    <tr style=\"text-align: right;\">\n      <th></th>\n      <th>Title</th>\n      <th>Author</th>\n      <th>Contributors</th>\n      <th>Price</th>\n      <th>Book_format</th>\n      <th>ISBN</th>\n      <th>Product_link</th>\n    </tr>\n  </thead>\n  <tbody>\n    <tr>\n      <th>0</th>\n      <td>lgb elmo loves you sesame street</td>\n      <td>Sarah Albee</td>\n      <td>[sarah-albee]</td>\n      <td>3.99</td>\n      <td>Hardback</td>\n      <td>9780385372831</td>\n      <td>https://www.waterstones.com/book/lgb-elmo-love...</td>\n    </tr>\n    <tr>\n      <th>1</th>\n      <td>venemous animals</td>\n      <td>Peterson</td>\n      <td>[peterson]</td>\n      <td>11.99</td>\n      <td>Paperback</td>\n      <td>9780395936085</td>\n      <td>https://www.waterstones.com/book/venemous-anim...</td>\n    </tr>\n    <tr>\n      <th>2</th>\n      <td>the little butterfly step into reading lvl 2</td>\n      <td>Sherry Shahan</td>\n      <td>[sherry-shahan]</td>\n      <td>3.99</td>\n      <td>Paperback</td>\n      <td>9780385371896</td>\n      <td>https://www.waterstones.com/book/the-little-bu...</td>\n    </tr>\n    <tr>\n      <th>3</th>\n      <td>a field guide to the birds nests</td>\n      <td>Hal H. Harrison</td>\n      <td>[hal-h-harrison]</td>\n      <td>11.99</td>\n      <td>Paperback</td>\n      <td>9780395936092</td>\n      <td>https://www.waterstones.com/book/a-field-guide...</td>\n    </tr>\n    <tr>\n      <th>4</th>\n      <td>hog eye</td>\n      <td>Susan Meddaugh</td>\n      <td>[susan-meddaugh]</td>\n      <td>3.99</td>\n      <td>Paperback</td>\n      <td>9780395937464</td>\n      <td>https://www.waterstones.com/book/hog-eye/susan...</td>\n    </tr>\n    <tr>\n      <th>...</th>\n      <td>...</td>\n      <td>...</td>\n      <td>...</td>\n      <td>...</td>\n      <td>...</td>\n      <td>...</td>\n      <td>...</td>\n    </tr>\n    <tr>\n      <th>500043</th>\n      <td>may gibbs</td>\n      <td>Robert Holden</td>\n      <td>[robert-holden, jane-brummitt]</td>\n      <td>25.00</td>\n      <td>Hardback</td>\n      <td>9781742701509</td>\n      <td>https://www.waterstones.com/book/may-gibbs/rob...</td>\n    </tr>\n    <tr>\n      <th>500044</th>\n      <td>commentaries on the laws of england of public ...</td>\n      <td>Knight William Blackstone</td>\n      <td>[knight-william-blackstone]</td>\n      <td>15.45</td>\n      <td>Paperback</td>\n      <td>9781594625558</td>\n      <td>https://www.waterstones.com/book/commentaries-...</td>\n    </tr>\n    <tr>\n      <th>500045</th>\n      <td>mr asgills apology for an omission in his late...</td>\n      <td>John Asgill</td>\n      <td>[john-asgill]</td>\n      <td>34.95</td>\n      <td>Paperback</td>\n      <td>9785518817418</td>\n      <td>https://www.waterstones.com/book/mr-asgills-ap...</td>\n    </tr>\n    <tr>\n      <th>500046</th>\n      <td>marxs concept of man</td>\n      <td>Erich Fromm</td>\n      <td>[erich-fromm, t-bottomore]</td>\n      <td>9.00</td>\n      <td>Paperback</td>\n      <td>9781614270218</td>\n      <td>https://www.waterstones.com/book/marxs-concept...</td>\n    </tr>\n    <tr>\n      <th>500047</th>\n      <td>etude de moulabilit des composites 3d tiss s</td>\n      <td>Nawab-Y</td>\n      <td>[nawab-y]</td>\n      <td>23.00</td>\n      <td>Paperback</td>\n      <td>9783838180199</td>\n      <td>https://www.waterstones.com/book/etude-de-moul...</td>\n    </tr>\n  </tbody>\n</table>\n<p>500048 rows × 7 columns</p>\n</div>"
     },
     "metadata": {},
     "execution_count": 45
    }
   ],
   "source": [
    "df2 = df1[[ 'Title','Author','Contributors','Price','Book_format','ISBN','Product_link']].copy()\n",
    "df2"
   ]
  },
  {
   "cell_type": "code",
   "execution_count": 36,
   "metadata": {},
   "outputs": [],
   "source": [
    "df2['ISBN'] = df['ISBN'].astype('int64')"
   ]
  },
  {
   "cell_type": "code",
   "execution_count": 37,
   "metadata": {},
   "outputs": [],
   "source": [
    "df2.to_csv('book_info.csv')"
   ]
  },
  {
   "cell_type": "code",
   "execution_count": 38,
   "metadata": {},
   "outputs": [
    {
     "output_type": "execute_result",
     "data": {
      "text/plain": [
       "(500048, 7)"
      ]
     },
     "metadata": {},
     "execution_count": 38
    }
   ],
   "source": [
    "df2.shape"
   ]
  }
 ]
}