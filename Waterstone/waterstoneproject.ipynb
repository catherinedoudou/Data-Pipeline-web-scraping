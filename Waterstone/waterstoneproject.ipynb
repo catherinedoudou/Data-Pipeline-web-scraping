{
 "metadata": {
  "language_info": {
   "codemirror_mode": {
    "name": "ipython",
    "version": 3
   },
   "file_extension": ".py",
   "mimetype": "text/x-python",
   "name": "python",
   "nbconvert_exporter": "python",
   "pygments_lexer": "ipython3",
   "version": "3.9.1-final"
  },
  "orig_nbformat": 2,
  "kernelspec": {
   "name": "python3",
   "display_name": "Python 3",
   "language": "python"
  }
 },
 "nbformat": 4,
 "nbformat_minor": 2,
 "cells": [
  {
   "source": [
    "# Quick testing:"
   ],
   "cell_type": "markdown",
   "metadata": {}
  },
  {
   "cell_type": "code",
   "execution_count": 168,
   "metadata": {},
   "outputs": [
    {
     "output_type": "stream",
     "name": "stderr",
     "text": [
      "[WDM] - Current google-chrome version is 88.0.4324\n",
      "[WDM] - Get LATEST driver version for 88.0.4324\n",
      "[WDM] - Driver [C:\\Users\\xiaod\\.wdm\\drivers\\chromedriver\\win32\\88.0.4324.96\\chromedriver.exe] found in cache\n",
      " \n"
     ]
    }
   ],
   "source": [
    "import selenium\n",
    "from selenium import webdriver\n",
    "from webdriver_manager.chrome import ChromeDriverManager\n",
    "\n",
    "def accept_cookies(web_driver):\n",
    "    accept_cookies = wd.find_element_by_xpath('/html/body/div/div[1]/div/a')\n",
    "    accept_cookies.click()\n",
    "\n",
    "# TESTING\n",
    "url = 'https://www.waterstones.com/book/doctor-who-sands-of-time/justin-richards/9781849907675'\n",
    "\n",
    "\n",
    "wd = webdriver.Chrome(ChromeDriverManager().install())\n",
    "wd.get(url)\n",
    "accept_cookies(wd)\n",
    "\n",
    "#test = wd.get_property('data-productid').text\n",
    "#print(test)\n",
    "#wd.close()"
   ]
  },
  {
   "source": [
    "# Get product URLS and basic details:"
   ],
   "cell_type": "markdown",
   "metadata": {}
  },
  {
   "cell_type": "code",
   "execution_count": 1,
   "metadata": {
    "tags": []
   },
   "outputs": [
    {
     "output_type": "stream",
     "name": "stderr",
     "text": [
      "[WDM] - Current google-chrome version is 88.0.4324\n",
      "[WDM] - Get LATEST driver version for 88.0.4324\n",
      "[WDM] - Driver [C:\\Users\\xiaod\\.wdm\\drivers\\chromedriver\\win32\\88.0.4324.96\\chromedriver.exe] found in cache\n",
      " \n",
      "START: Tue Feb  2 23:31:02 2021\n",
      "END: Wed Feb  3 06:54:29 2021\n"
     ]
    }
   ],
   "source": [
    "import selenium\n",
    "from selenium import webdriver\n",
    "from webdriver_manager.chrome import ChromeDriverManager\n",
    "import pandas as pd\n",
    "from random import randint\n",
    "from time import sleep, ctime\n",
    "\n",
    "\n",
    "def accept_cookies(web_driver):\n",
    "    accept_cookies = wd.find_element_by_xpath('/html/body/div/div[1]/div/a')\n",
    "    accept_cookies.click()\n",
    "\n",
    "\n",
    "def get_waterstones_links(web_driver, url, start, end):\n",
    "    \"\"\"Iterates through waterstones thumbnail pages to get each product URL\"\"\"\n",
    "    errors = []\n",
    "    print('START:', ctime())\n",
    "    product_info = []\n",
    "\n",
    "    while start <= end:\n",
    "        page = url + str(start)\n",
    "\n",
    "        try:\n",
    "            web_driver.get(page)\n",
    "            products = wd.find_elements_by_class_name('info-wrap') # search result list\n",
    "\n",
    "            for product in products:\n",
    "                info = {}\n",
    "\n",
    "                info['author'] = product.find_element_by_class_name('author').text\n",
    "                info['price'] = product.find_element_by_class_name('price').text\n",
    "                info['book_format'] = product.find_elements_by_class_name('format')[-1].text\n",
    "                info['product_link'] = product.find_element_by_tag_name('a').get_property('href')\n",
    "                \n",
    "                product_info.append(info)\n",
    "\n",
    "            start += 1\n",
    "\n",
    "        except:\n",
    "            print(f'Failed on this URL: {page}')\n",
    "            start += 1\n",
    "            errors.append(page)\n",
    "    \n",
    "    df = pd.DataFrame(product_info)\n",
    "    df.to_pickle(f'product_links_{start-1}')\n",
    "\n",
    "    print('END:', ctime())\n",
    "\n",
    "\n",
    "wd = webdriver.Chrome(ChromeDriverManager().install())\n",
    "wd.get('https://www.waterstones.com/books/search/')\n",
    "\n",
    "accept_cookies(wd)\n",
    "get_waterstones_links(wd, 'https://www.waterstones.com/books/search/page/', 16000, 20834) # max 20834\n",
    "\n",
    "wd.close()"
   ]
  },
  {
   "cell_type": "code",
   "execution_count": null,
   "metadata": {},
   "outputs": [],
   "source": [
    "len(product_info)"
   ]
  },
  {
   "source": [
    "# Get extra details:"
   ],
   "cell_type": "markdown",
   "metadata": {}
  },
  {
   "source": [
    "import pandas as pd\n",
    "import selenium\n",
    "from selenium import webdriver\n",
    "from webdriver_manager.chrome import ChromeDriverManager\n",
    "from tqdm import tqdm\n",
    "from time import sleep\n",
    "\n",
    "links = pd.read_pickle('product_links_2')\n",
    "links = links.product_link.tolist()\n",
    "\n",
    "books = []\n",
    "wd = webdriver.Chrome(ChromeDriverManager().install())\n",
    "url = 'https://www.waterstones.com/book/doctor-who-sands-of-time/justin-richards/9781849907675'\n",
    "wd.get(url)\n",
    "\n",
    "\n",
    "\n",
    "for link in tqdm(links[:2]):\n",
    "    print(link)\n",
    "    wd.get(link)\n",
    "\n",
    "\n",
    "    title = wd.find_element_by_class_name('book-title').text # //*[@id=\"scope_book_title\"]\n",
    "    publisher = wd.find_element_by_xpath(\"//span[@itemprop='publisher']\").text\n",
    "    ISBN = wd.find_element_by_xpath(\"//span[@itemprop='isbn']\").text\n",
    "    categories = wd.find_element_by_xpath(\"//*[@class='breadcrumbs span12']\").text\n",
    "    full_star = wd.find_elements_by_xpath(\"//span[@class='star-icon full']\")\n",
    "    half_star = wd.find_elements_by_xpath(\"//span[@class='star-icon half']\")\n",
    "    num_of_stars = len(full_star) + len(half_star)*0.5\n",
    "\n",
    "    number_of_reviews = wd.find_elements_by_xpath(\"//a[@class='reviews-trigger']\")\n",
    "    print(len(number_of_reviews))\n",
    "    \n",
    "    pages = wd.find_elements_by_xpath(\"//span[@itemprop='numberOfPages']\")\n",
    "    print(len(number_of_reviews))\n",
    "\n",
    "    weight = wd.find_elements_by_xpath(\"//span[@itemprop='weight']\")\n",
    "    print(len(number_of_reviews))\n",
    "\n",
    "    desc = wd.find_elements_by_xpath(\"//*[@itemprop='description']\")[0].text\n",
    "\n",
    "\n",
    "    extra_information = {'booktitle':title,\n",
    "        'publisher':publisher,\n",
    "        'ISBN':ISBN,\n",
    "        'category':categories,\n",
    "        'num_of_stars':num_of_stars,\n",
    "        'num_of_reviews':number_of_reviews,\n",
    "        'pages':pages,\n",
    "        'weight':weight,\n",
    "        'desc':desc}\n",
    "\n",
    "    books.append(extra_information)\n",
    "\n",
    "print(books)\n",
    "\n"
   ],
   "cell_type": "code",
   "metadata": {
    "tags": []
   },
   "execution_count": 6,
   "outputs": [
    {
     "output_type": "stream",
     "name": "stderr",
     "text": [
      "[WDM] - Current google-chrome version is 88.0.4324\n",
      "[WDM] - Get LATEST driver version for 88.0.4324\n",
      " \n",
      "[WDM] - Driver [C:\\Users\\xiaod\\.wdm\\drivers\\chromedriver\\win32\\88.0.4324.96\\chromedriver.exe] found in cache\n",
      "  0%|          | 0/2 [00:00<?, ?it/s]https://www.waterstones.com/book/lgb-elmo-loves-you-sesame-street/sarah-albee/9780385372831\n",
      " 50%|█████     | 1/2 [00:00<00:00,  1.07it/s]0\n",
      "0\n",
      "0\n",
      "https://www.waterstones.com/book/venemous-animals/peterson/9780395936085\n",
      "100%|██████████| 2/2 [00:01<00:00,  1.15it/s]0\n",
      "0\n",
      "0\n",
      "[{'booktitle': 'LGB Elmo Loves You (Sesame Street) (Hardback)', 'publisher': '', 'ISBN': '', 'category': \"This book can be found in:\\nChildren's & Teenage > Picture books > Characters\", 'num_of_stars': 0.0, 'num_of_reviews': [], 'pages': [<selenium.webdriver.remote.webelement.WebElement (session=\"17adfa14296080e460fa793287650374\", element=\"a52527bc-ca1f-4248-9435-f3f0662e0d8c\")>, <selenium.webdriver.remote.webelement.WebElement (session=\"17adfa14296080e460fa793287650374\", element=\"d62af1b1-da79-4303-b09b-021e1a6603ac\")>, <selenium.webdriver.remote.webelement.WebElement (session=\"17adfa14296080e460fa793287650374\", element=\"bd26afc0-2b97-49ab-83ef-e8d002c01013\")>], 'weight': [<selenium.webdriver.remote.webelement.WebElement (session=\"17adfa14296080e460fa793287650374\", element=\"4d018e9c-1c43-47b7-a059-598fadf81b91\")>, <selenium.webdriver.remote.webelement.WebElement (session=\"17adfa14296080e460fa793287650374\", element=\"20322c28-c62d-44bb-8490-b8936807a879\")>], 'desc': ''}, {'booktitle': 'Venemous Animals - Peterson Field Guides (Paperback)', 'publisher': '', 'ISBN': '', 'category': 'This book can be found in:\\nPopular Science & Nature > Nature Writing > Wildlife', 'num_of_stars': 0.0, 'num_of_reviews': [], 'pages': [], 'weight': [<selenium.webdriver.remote.webelement.WebElement (session=\"17adfa14296080e460fa793287650374\", element=\"0f02084b-7397-4d6a-9498-7433f5a2d817\")>, <selenium.webdriver.remote.webelement.WebElement (session=\"17adfa14296080e460fa793287650374\", element=\"4f635738-4d98-4e5f-8129-80ab06449e00\")>], 'desc': ''}]\n",
      "\n"
     ]
    }
   ]
  },
  {
   "cell_type": "code",
   "execution_count": null,
   "metadata": {},
   "outputs": [],
   "source": [
    "# read the 3 pickle files into pandas // df1, df2, df3\n",
    "# make a list dfs = [df1, df2, df3]\n",
    "# make an empty df merged_df = pd.DataFrame()\n",
    "# for df in dfs:\n",
    "# pd.concatenate((merged_df, df) ,index=False)\n",
    "\n",
    "#merged_df.to_csv('name.csv', index=False, encoding='UTF-8')\n",
    "#def split_url(row):\n",
    "#row.split('/')\n",
    "\n",
    "#df['new_col'] = df['url'].apply("
   ]
  },
  {
   "cell_type": "code",
   "execution_count": 185,
   "metadata": {},
   "outputs": [],
   "source": [
    "import pandas as pd\n",
    "first = pd.read_pickle('product_links_first')\n",
    "second = pd.read_pickle('product_links_second')\n",
    "third = pd.read_pickle('product_links_third')\n",
    "#dfs = [first, second, third]\n",
    "df = pd.concat(dfs, ignore_index=True)\n",
    "\n",
    "df.to_csv('all_info.',index=False)\n"
   ]
  },
  {
   "cell_type": "code",
   "execution_count": 187,
   "metadata": {
    "tags": []
   },
   "outputs": [
    {
     "output_type": "execute_result",
     "data": {
      "text/plain": [
       "               author   price book_format  \\\n",
       "0         Sarah Albee   £3.99    Hardback   \n",
       "1            Peterson  £11.99   Paperback   \n",
       "2       Sherry Shahan   £3.99   Paperback   \n",
       "3     Hal H. Harrison  £11.99   Paperback   \n",
       "4      Susan Meddaugh   £3.99   Paperback   \n",
       "..                ...     ...         ...   \n",
       "95  Katherine Coville  £12.99    Hardback   \n",
       "96    Lourdes Beneria  £41.99   Paperback   \n",
       "97          Aiko Ikeo  £44.99   Paperback   \n",
       "98      Albert Marrin  £22.50    Hardback   \n",
       "99        Margret Rey   £3.50   Paperback   \n",
       "\n",
       "                                         product_link  \n",
       "0   https://www.waterstones.com/book/lgb-elmo-love...  \n",
       "1   https://www.waterstones.com/book/venemous-anim...  \n",
       "2   https://www.waterstones.com/book/the-little-bu...  \n",
       "3   https://www.waterstones.com/book/a-field-guide...  \n",
       "4   https://www.waterstones.com/book/hog-eye/susan...  \n",
       "..                                                ...  \n",
       "95  https://www.waterstones.com/book/the-cottage-i...  \n",
       "96  https://www.waterstones.com/book/gender-develo...  \n",
       "97  https://www.waterstones.com/book/japanese-econ...  \n",
       "98  https://www.waterstones.com/book/fdr-and-the-a...  \n",
       "99  https://www.waterstones.com/book/curious-georg...  \n",
       "\n",
       "[100 rows x 4 columns]"
      ],
      "text/html": "<div>\n<style scoped>\n    .dataframe tbody tr th:only-of-type {\n        vertical-align: middle;\n    }\n\n    .dataframe tbody tr th {\n        vertical-align: top;\n    }\n\n    .dataframe thead th {\n        text-align: right;\n    }\n</style>\n<table border=\"1\" class=\"dataframe\">\n  <thead>\n    <tr style=\"text-align: right;\">\n      <th></th>\n      <th>author</th>\n      <th>price</th>\n      <th>book_format</th>\n      <th>product_link</th>\n    </tr>\n  </thead>\n  <tbody>\n    <tr>\n      <th>0</th>\n      <td>Sarah Albee</td>\n      <td>£3.99</td>\n      <td>Hardback</td>\n      <td>https://www.waterstones.com/book/lgb-elmo-love...</td>\n    </tr>\n    <tr>\n      <th>1</th>\n      <td>Peterson</td>\n      <td>£11.99</td>\n      <td>Paperback</td>\n      <td>https://www.waterstones.com/book/venemous-anim...</td>\n    </tr>\n    <tr>\n      <th>2</th>\n      <td>Sherry Shahan</td>\n      <td>£3.99</td>\n      <td>Paperback</td>\n      <td>https://www.waterstones.com/book/the-little-bu...</td>\n    </tr>\n    <tr>\n      <th>3</th>\n      <td>Hal H. Harrison</td>\n      <td>£11.99</td>\n      <td>Paperback</td>\n      <td>https://www.waterstones.com/book/a-field-guide...</td>\n    </tr>\n    <tr>\n      <th>4</th>\n      <td>Susan Meddaugh</td>\n      <td>£3.99</td>\n      <td>Paperback</td>\n      <td>https://www.waterstones.com/book/hog-eye/susan...</td>\n    </tr>\n    <tr>\n      <th>...</th>\n      <td>...</td>\n      <td>...</td>\n      <td>...</td>\n      <td>...</td>\n    </tr>\n    <tr>\n      <th>95</th>\n      <td>Katherine Coville</td>\n      <td>£12.99</td>\n      <td>Hardback</td>\n      <td>https://www.waterstones.com/book/the-cottage-i...</td>\n    </tr>\n    <tr>\n      <th>96</th>\n      <td>Lourdes Beneria</td>\n      <td>£41.99</td>\n      <td>Paperback</td>\n      <td>https://www.waterstones.com/book/gender-develo...</td>\n    </tr>\n    <tr>\n      <th>97</th>\n      <td>Aiko Ikeo</td>\n      <td>£44.99</td>\n      <td>Paperback</td>\n      <td>https://www.waterstones.com/book/japanese-econ...</td>\n    </tr>\n    <tr>\n      <th>98</th>\n      <td>Albert Marrin</td>\n      <td>£22.50</td>\n      <td>Hardback</td>\n      <td>https://www.waterstones.com/book/fdr-and-the-a...</td>\n    </tr>\n    <tr>\n      <th>99</th>\n      <td>Margret Rey</td>\n      <td>£3.50</td>\n      <td>Paperback</td>\n      <td>https://www.waterstones.com/book/curious-georg...</td>\n    </tr>\n  </tbody>\n</table>\n<p>100 rows × 4 columns</p>\n</div>"
     },
     "metadata": {},
     "execution_count": 187
    }
   ],
   "source": [
    "test = pd.read_csv('all_info', nrows=100)\n",
    "\n",
    "test"
   ]
  },
  {
   "cell_type": "code",
   "execution_count": 142,
   "metadata": {
    "tags": []
   },
   "outputs": [],
   "source": [
    "test['isbn'] = test['product_link'].str.split('/')\n",
    "x = test['product_link'].to_list()"
   ]
  },
  {
   "cell_type": "code",
   "execution_count": 188,
   "metadata": {},
   "outputs": [
    {
     "output_type": "stream",
     "name": "stdout",
     "text": [
      "p is for potty 9780385383691 ['naomi-kleinberg', 'christopher-moroney']\n"
     ]
    }
   ],
   "source": [
    "a = 'https://www.waterstones.com/book/p-is-for-potty/naomi-kleinberg/christopher-moroney/9780385383691'\n",
    "b = 'https://www.waterstones.com/book/lgb-elmo-loves-you-sesame-street/sarah-albee/9780385372831'\n",
    "c = [a, b]\n",
    "\n",
    "title = a.split('/')[4]\n",
    "isbn = a.split('/')[-1]\n",
    "contributors = a.split('/')[5:-1]\n",
    "title = title.replace('-',' ')\n",
    "print(title,isbn,author)"
   ]
  },
  {
   "cell_type": "code",
   "execution_count": 203,
   "metadata": {},
   "outputs": [
    {
     "output_type": "stream",
     "name": "stdout",
     "text": [
      "['b']\n"
     ]
    }
   ],
   "source": []
  },
  {
   "cell_type": "code",
   "execution_count": null,
   "metadata": {},
   "outputs": [],
   "source": [
    "['a',['a'],'a']"
   ]
  }
 ]
}