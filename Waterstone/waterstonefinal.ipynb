{
 "metadata": {
  "language_info": {
   "codemirror_mode": {
    "name": "ipython",
    "version": 3
   },
   "file_extension": ".py",
   "mimetype": "text/x-python",
   "name": "python",
   "nbconvert_exporter": "python",
   "pygments_lexer": "ipython3",
   "version": 3
  },
  "orig_nbformat": 2
 },
 "nbformat": 4,
 "nbformat_minor": 2,
 "cells": [
  {
   "cell_type": "code",
   "execution_count": null,
   "metadata": {},
   "outputs": [],
   "source": [
    "import selenium\n",
    "from selenium import webdriver"
   ]
  },
  {
   "cell_type": "code",
   "execution_count": null,
   "metadata": {},
   "outputs": [],
   "source": [
    "driver = webdriver.Chrome(executable_path = 'C:/learning/Project/web_scraping/chrome_driver/chromedriver.exe')\n",
    "driver.get('https://www.waterstones.com/books/search/')\n",
    "#accept cookies\n",
    "driver.find_element_by_xpath('/html/body/div/div[1]/div/a').click()"
   ]
  },
  {
   "cell_type": "code",
   "execution_count": null,
   "metadata": {},
   "outputs": [],
   "source": [
    "listoflinks = []\n",
    "condition = True\n",
    "while condition:\n",
    "    products = driver.find_elements_by_class_name('info-wrap')\n",
    "\n",
    "    for el in products:\n",
    "        p1 = el.find_element_by_tag_name('a')\n",
    "        listoflinks.append(p1.get_property('href'))\n",
    "    try:\n",
    "         driver.find_element_by_class_name('next').click()\n",
    "    except:\n",
    "        condition = False"
   ]
  },
  {
   "cell_type": "code",
   "execution_count": null,
   "metadata": {},
   "outputs": [],
   "source": [
    "from tqdm import tqdm\n",
    "all_books = []\n",
    "for i in tqdm(listoflinks[:20]):\n",
    "    driver.get(i)\n",
    "    booktitle = driver.find_element_by_xpath('//*[@id=\"scope_book_title\"]').text\n",
    "    price = driver.find_element_by_xpath('/html/body/div[1]/div[2]/div[2]/section[1]/div[2]/div[2]/div/div/div/div[1]/div/b').text\n",
    "    author = driver.find_element_by_xpath('/html/body/div[1]/div[2]/div[2]/section[1]/div[2]/div[1]/span/a/b/span').text\n",
    "    ISBN = driver.find_element_by_xpath('/html/body/div[1]/div[2]/div[2]/section[2]/div[2]/div/div/p/i[2]/span').text\n",
    "    publisher = driver.find_element_by_xpath('/html/body/div[1]/div[2]/div[2]/section[2]/div[2]/div/div/p/i[1]/span').text\n",
    "    category = driver.find_element_by_xpath('/html/body/div[1]/div[2]/div[1]/a[1]').text\n",
    "    pages = driver.find_element_by_xpath('/html/body/div[1]/div[2]/div[2]/section[2]/div[2]/div/div/p/i[3]/span').text\n",
    "    \n",
    "    information = {'booktitle':booktitle,\n",
    "        'price':price,\n",
    "        'author':author,\n",
    "        'ISBN':ISBN,\n",
    "        'publisher':publisher,\n",
    "        'category':category,\n",
    "        'pages/weight':pages}\n",
    "    all_books.append(information)"
   ]
  },
  {
   "cell_type": "code",
   "execution_count": null,
   "metadata": {},
   "outputs": [],
   "source": [
    "import pandas as pd\n",
    "pd.DataFrame(all_books)"
   ]
  },
  {
   "cell_type": "code",
   "execution_count": null,
   "metadata": {},
   "outputs": [],
   "source": [
    "driver.close()"
   ]
  }
 ]
}