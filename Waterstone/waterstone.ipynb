{
 "metadata": {
  "language_info": {
   "codemirror_mode": {
    "name": "ipython",
    "version": 3
   },
   "file_extension": ".py",
   "mimetype": "text/x-python",
   "name": "python",
   "nbconvert_exporter": "python",
   "pygments_lexer": "ipython3",
   "version": "3.9.1-final"
  },
  "orig_nbformat": 2,
  "kernelspec": {
   "name": "geopy",
   "display_name": "geopy",
   "language": "python"
  }
 },
 "nbformat": 4,
 "nbformat_minor": 2,
 "cells": [
  {
   "cell_type": "code",
   "execution_count": 7,
   "metadata": {},
   "outputs": [
    {
     "output_type": "stream",
     "name": "stderr",
     "text": [
      "[WDM] - Current google-chrome version is 87.0.4280\n",
      "[WDM] - Get LATEST driver version for 87.0.4280\n",
      "[WDM] - There is no [win32] chromedriver for browser 87.0.4280 in cache\n",
      "[WDM] - Get LATEST driver version for 87.0.4280\n",
      "[WDM] - Trying to download new driver from http://chromedriver.storage.googleapis.com/87.0.4280.88/chromedriver_win32.zip\n",
      " \n",
      "[WDM] - Driver has been saved in cache [C:\\Users\\xiaod\\.wdm\\drivers\\chromedriver\\win32\\87.0.4280.88]\n"
     ]
    }
   ],
   "source": [
    "##to install web driver:\n",
    "# !pip install webdriver-manager\n",
    "# from selenium import webdriver\n",
    "# from webdriver_manager.chrome import ChromeDriverManager\n",
    "# driver = webdriver.Chrome(ChromeDriverManager().install())"
   ]
  },
  {
   "cell_type": "code",
   "execution_count": 149,
   "metadata": {},
   "outputs": [],
   "source": [
    "import selenium\n",
    "from selenium import webdriver\n",
    "from selenium.webdriver.common.by import By\n",
    "from selenium.webdriver.support.ui import WebDriverWait\n",
    "from selenium.webdriver.support import expected_conditions as EC"
   ]
  },
  {
   "cell_type": "code",
   "execution_count": 150,
   "metadata": {},
   "outputs": [],
   "source": [
    "driver = webdriver.Chrome(executable_path = 'C:/learning/Project/web_scraping/chrome_driver/chromedriver.exe')\n",
    "\n",
    "# goes to the URL\n",
    "driver.get('https://www.waterstones.com/books/search/')\n",
    "\n",
    "# waits for page to load\n",
    "#WebDriverWait(driver, 5).until(EC.element_to_be_clickable((By.XPATH, \"Element's XPath\")))\n",
    "\n",
    "# accept the cookies \n",
    "driver.find_element_by_xpath('/html/body/div/div[1]/div/a').click()\n",
    "# a class = close-cookie-bar js-close-cookie-bar\n",
    "\n"
   ]
  },
  {
   "cell_type": "code",
   "execution_count": 154,
   "metadata": {},
   "outputs": [],
   "source": [
    "#get the books on the first page\n",
    "products = driver.find_elements_by_class_name('info-wrap')\n",
    "\n",
    "\n",
    "        #book['title'], book['author'], book['isbn'] =  book['link'].replace('https://www.waterstones.com/book/', ' ').replace('-', ' ').replace('//','/').title().split('/')"
   ]
  },
  {
   "cell_type": "code",
   "execution_count": 156,
   "metadata": {
    "tags": []
   },
   "outputs": [
    {
     "output_type": "stream",
     "name": "stdout",
     "text": [
      "LGB Elmo…\n",
      "Sarah Albee\n",
      "£3.99\n",
      "Hardback\n",
      "Venemous…\n",
      "Peterson\n",
      "£11.99\n",
      "Paperback\n",
      "The Little…\n",
      "Sherry Shahan\n",
      "£3.99\n",
      "Paperback\n",
      "A Field Guide…\n",
      "Hal H. Harrison\n",
      "£11.99\n",
      "Paperback\n",
      "Hog-Eye\n",
      "Susan Meddaugh\n",
      "£3.99\n",
      "Paperback\n",
      "Elmo's Little…\n",
      "Sarah Albee\n",
      "£5.99\n",
      "Hardback\n",
      "Field Guide to…\n",
      "Roger Tory Peterson\n",
      "£14.99\n",
      "Paperback\n",
      "There's No…\n",
      "LeUyen Pham\n",
      "£13.99\n",
      "Hardback\n",
      "Zooman Sam\n",
      "Lois Lowry\n",
      "£9.95\n",
      "Hardback\n",
      "The Night…\n",
      "Clement C. Moore\n",
      "£5.99\n",
      "Board book\n",
      "…\n",
      "Marina Krcmar\n",
      "£150.00\n",
      "Hardback\n",
      "Reptiles and…\n",
      "Roger Conant\n",
      "£3.99\n",
      "Paperback\n",
      "P is for Potty\n",
      "Naomi Kleinberg\n",
      "£4.99\n",
      "Board book\n",
      "The Dynamics…\n",
      "Richard M. Perloff\n",
      "£130.00\n",
      "Hardback\n",
      "Solar System\n",
      "Jay M. Pasachoff\n",
      "£3.99\n",
      "Paperback\n",
      "LGB I Am A…\n",
      "Ole Risom\n",
      "£3.99\n",
      "Hardback\n",
      "Edna Webster…\n",
      "Brautigan\n",
      "£7.95\n",
      "Paperback\n",
      "Practising…\n",
      "Ann Taket\n",
      "£36.99\n",
      "Paperback\n",
      "The Poky…\n",
      "Kristen L. Depken\n",
      "£4.50\n",
      "Paperback\n",
      "Building Big\n",
      "David Macaulay\n",
      "£25.99\n",
      "Hardback\n",
      "Women of the…\n",
      "Elizabeth Fagg Olds\n",
      "£9.99\n",
      "Paperback\n",
      "Informed Cities\n",
      "Marko Joas\n",
      "£150.00\n",
      "Hardback\n",
      "Angels in Our…\n",
      "Helen Steiner Rice\n",
      "£10.99\n",
      "Paperback\n",
      "Where the…\n",
      "Rick Bass\n",
      "£8.99\n",
      "Paperback\n"
     ]
    }
   ],
   "source": [
    "#books = []\n",
    "for i in products:\n",
    "    print(i.text)\n",
    "    #book = {}\n",
    "    #book['link'] = i.find_element_by_tag_name('a').get_property('href')\n",
    "\n",
    "    #book['waterstones_id'] = FIND IT\n",
    "    #book['price'] = FIND IT!!!!!!!!!!!\n",
    "    #book['img'] = FIND IT\n",
    "    #book['link'] = \n",
    "    books.append(book)\n",
    "    \n",
    "\n",
    "    #books.append(p1.get_property('href'))"
   ]
  },
  {
   "cell_type": "code",
   "execution_count": 165,
   "metadata": {
    "tags": [
     "outputPrepend"
    ]
   },
   "outputs": [
    {
     "output_type": "stream",
     "name": "stdout",
     "text": [
      "nameoftheproduct': 'LGB Elmo…', 'priceproduct': '£3.99', 'author': 'Sarah Albee', 'paper': ''}, {'nameoftheproduct': 'LGB Elmo…', 'priceproduct': '£3.99', 'author': 'Sarah Albee', 'paper': ''}, {'nameoftheproduct': 'LGB Elmo…', 'priceproduct': '£3.99', 'author': 'Sarah Albee', 'paper': ''}, {'nameoftheproduct': 'LGB Elmo…', 'priceproduct': '£3.99', 'author': 'Sarah Albee', 'paper': ''}, {'nameoftheproduct': 'LGB Elmo…', 'priceproduct': '£3.99', 'author': 'Sarah Albee', 'paper': ''}, {'nameoftheproduct': 'LGB Elmo…', 'priceproduct': '£3.99', 'author': 'Sarah Albee', 'paper': ''}, {'nameoftheproduct': 'LGB Elmo…', 'priceproduct': '£3.99', 'author': 'Sarah Albee', 'paper': ''}, {'nameoftheproduct': 'LGB Elmo…', 'priceproduct': '£3.99', 'author': 'Sarah Albee', 'paper': ''}, {'nameoftheproduct': 'LGB Elmo…', 'priceproduct': '£3.99', 'author': 'Sarah Albee', 'paper': ''}]\n",
      "[{'nameoftheproduct': 'LGB Elmo…', 'priceproduct': '£3.99', 'author': 'Sarah Albee', 'paper': ''}, {'nameoftheproduct': 'LGB Elmo…', 'priceproduct': '£3.99', 'author': 'Sarah Albee', 'paper': ''}, {'nameoftheproduct': 'LGB Elmo…', 'priceproduct': '£3.99', 'author': 'Sarah Albee', 'paper': ''}, {'nameoftheproduct': 'LGB Elmo…', 'priceproduct': '£3.99', 'author': 'Sarah Albee', 'paper': ''}, {'nameoftheproduct': 'LGB Elmo…', 'priceproduct': '£3.99', 'author': 'Sarah Albee', 'paper': ''}, {'nameoftheproduct': 'LGB Elmo…', 'priceproduct': '£3.99', 'author': 'Sarah Albee', 'paper': ''}, {'nameoftheproduct': 'LGB Elmo…', 'priceproduct': '£3.99', 'author': 'Sarah Albee', 'paper': ''}, {'nameoftheproduct': 'LGB Elmo…', 'priceproduct': '£3.99', 'author': 'Sarah Albee', 'paper': ''}, {'nameoftheproduct': 'LGB Elmo…', 'priceproduct': '£3.99', 'author': 'Sarah Albee', 'paper': ''}, {'nameoftheproduct': 'LGB Elmo…', 'priceproduct': '£3.99', 'author': 'Sarah Albee', 'paper': ''}, {'nameoftheproduct': 'LGB Elmo…', 'priceproduct': '£3.99', 'author': 'Sarah Albee', 'paper': ''}, {'nameoftheproduct': 'LGB Elmo…', 'priceproduct': '£3.99', 'author': 'Sarah Albee', 'paper': ''}, {'nameoftheproduct': 'LGB Elmo…', 'priceproduct': '£3.99', 'author': 'Sarah Albee', 'paper': ''}, {'nameoftheproduct': 'LGB Elmo…', 'priceproduct': '£3.99', 'author': 'Sarah Albee', 'paper': ''}, {'nameoftheproduct': 'LGB Elmo…', 'priceproduct': '£3.99', 'author': 'Sarah Albee', 'paper': ''}]\n",
      "[{'nameoftheproduct': 'LGB Elmo…', 'priceproduct': '£3.99', 'author': 'Sarah Albee', 'paper': ''}, {'nameoftheproduct': 'LGB Elmo…', 'priceproduct': '£3.99', 'author': 'Sarah Albee', 'paper': ''}, {'nameoftheproduct': 'LGB Elmo…', 'priceproduct': '£3.99', 'author': 'Sarah Albee', 'paper': ''}, {'nameoftheproduct': 'LGB Elmo…', 'priceproduct': '£3.99', 'author': 'Sarah Albee', 'paper': ''}, {'nameoftheproduct': 'LGB Elmo…', 'priceproduct': '£3.99', 'author': 'Sarah Albee', 'paper': ''}, {'nameoftheproduct': 'LGB Elmo…', 'priceproduct': '£3.99', 'author': 'Sarah Albee', 'paper': ''}, {'nameoftheproduct': 'LGB Elmo…', 'priceproduct': '£3.99', 'author': 'Sarah Albee', 'paper': ''}, {'nameoftheproduct': 'LGB Elmo…', 'priceproduct': '£3.99', 'author': 'Sarah Albee', 'paper': ''}, {'nameoftheproduct': 'LGB Elmo…', 'priceproduct': '£3.99', 'author': 'Sarah Albee', 'paper': ''}, {'nameoftheproduct': 'LGB Elmo…', 'priceproduct': '£3.99', 'author': 'Sarah Albee', 'paper': ''}, {'nameoftheproduct': 'LGB Elmo…', 'priceproduct': '£3.99', 'author': 'Sarah Albee', 'paper': ''}, {'nameoftheproduct': 'LGB Elmo…', 'priceproduct': '£3.99', 'author': 'Sarah Albee', 'paper': ''}, {'nameoftheproduct': 'LGB Elmo…', 'priceproduct': '£3.99', 'author': 'Sarah Albee', 'paper': ''}, {'nameoftheproduct': 'LGB Elmo…', 'priceproduct': '£3.99', 'author': 'Sarah Albee', 'paper': ''}, {'nameoftheproduct': 'LGB Elmo…', 'priceproduct': '£3.99', 'author': 'Sarah Albee', 'paper': ''}, {'nameoftheproduct': 'LGB Elmo…', 'priceproduct': '£3.99', 'author': 'Sarah Albee', 'paper': ''}]\n",
      "[{'nameoftheproduct': 'LGB Elmo…', 'priceproduct': '£3.99', 'author': 'Sarah Albee', 'paper': ''}, {'nameoftheproduct': 'LGB Elmo…', 'priceproduct': '£3.99', 'author': 'Sarah Albee', 'paper': ''}, {'nameoftheproduct': 'LGB Elmo…', 'priceproduct': '£3.99', 'author': 'Sarah Albee', 'paper': ''}, {'nameoftheproduct': 'LGB Elmo…', 'priceproduct': '£3.99', 'author': 'Sarah Albee', 'paper': ''}, {'nameoftheproduct': 'LGB Elmo…', 'priceproduct': '£3.99', 'author': 'Sarah Albee', 'paper': ''}, {'nameoftheproduct': 'LGB Elmo…', 'priceproduct': '£3.99', 'author': 'Sarah Albee', 'paper': ''}, {'nameoftheproduct': 'LGB Elmo…', 'priceproduct': '£3.99', 'author': 'Sarah Albee', 'paper': ''}, {'nameoftheproduct': 'LGB Elmo…', 'priceproduct': '£3.99', 'author': 'Sarah Albee', 'paper': ''}, {'nameoftheproduct': 'LGB Elmo…', 'priceproduct': '£3.99', 'author': 'Sarah Albee', 'paper': ''}, {'nameoftheproduct': 'LGB Elmo…', 'priceproduct': '£3.99', 'author': 'Sarah Albee', 'paper': ''}, {'nameoftheproduct': 'LGB Elmo…', 'priceproduct': '£3.99', 'author': 'Sarah Albee', 'paper': ''}, {'nameoftheproduct': 'LGB Elmo…', 'priceproduct': '£3.99', 'author': 'Sarah Albee', 'paper': ''}, {'nameoftheproduct': 'LGB Elmo…', 'priceproduct': '£3.99', 'author': 'Sarah Albee', 'paper': ''}, {'nameoftheproduct': 'LGB Elmo…', 'priceproduct': '£3.99', 'author': 'Sarah Albee', 'paper': ''}, {'nameoftheproduct': 'LGB Elmo…', 'priceproduct': '£3.99', 'author': 'Sarah Albee', 'paper': ''}, {'nameoftheproduct': 'LGB Elmo…', 'priceproduct': '£3.99', 'author': 'Sarah Albee', 'paper': ''}, {'nameoftheproduct': 'LGB Elmo…', 'priceproduct': '£3.99', 'author': 'Sarah Albee', 'paper': ''}]\n",
      "[{'nameoftheproduct': 'LGB Elmo…', 'priceproduct': '£3.99', 'author': 'Sarah Albee', 'paper': ''}, {'nameoftheproduct': 'LGB Elmo…', 'priceproduct': '£3.99', 'author': 'Sarah Albee', 'paper': ''}, {'nameoftheproduct': 'LGB Elmo…', 'priceproduct': '£3.99', 'author': 'Sarah Albee', 'paper': ''}, {'nameoftheproduct': 'LGB Elmo…', 'priceproduct': '£3.99', 'author': 'Sarah Albee', 'paper': ''}, {'nameoftheproduct': 'LGB Elmo…', 'priceproduct': '£3.99', 'author': 'Sarah Albee', 'paper': ''}, {'nameoftheproduct': 'LGB Elmo…', 'priceproduct': '£3.99', 'author': 'Sarah Albee', 'paper': ''}, {'nameoftheproduct': 'LGB Elmo…', 'priceproduct': '£3.99', 'author': 'Sarah Albee', 'paper': ''}, {'nameoftheproduct': 'LGB Elmo…', 'priceproduct': '£3.99', 'author': 'Sarah Albee', 'paper': ''}, {'nameoftheproduct': 'LGB Elmo…', 'priceproduct': '£3.99', 'author': 'Sarah Albee', 'paper': ''}, {'nameoftheproduct': 'LGB Elmo…', 'priceproduct': '£3.99', 'author': 'Sarah Albee', 'paper': ''}, {'nameoftheproduct': 'LGB Elmo…', 'priceproduct': '£3.99', 'author': 'Sarah Albee', 'paper': ''}, {'nameoftheproduct': 'LGB Elmo…', 'priceproduct': '£3.99', 'author': 'Sarah Albee', 'paper': ''}, {'nameoftheproduct': 'LGB Elmo…', 'priceproduct': '£3.99', 'author': 'Sarah Albee', 'paper': ''}, {'nameoftheproduct': 'LGB Elmo…', 'priceproduct': '£3.99', 'author': 'Sarah Albee', 'paper': ''}, {'nameoftheproduct': 'LGB Elmo…', 'priceproduct': '£3.99', 'author': 'Sarah Albee', 'paper': ''}, {'nameoftheproduct': 'LGB Elmo…', 'priceproduct': '£3.99', 'author': 'Sarah Albee', 'paper': ''}, {'nameoftheproduct': 'LGB Elmo…', 'priceproduct': '£3.99', 'author': 'Sarah Albee', 'paper': ''}, {'nameoftheproduct': 'LGB Elmo…', 'priceproduct': '£3.99', 'author': 'Sarah Albee', 'paper': ''}]\n",
      "[{'nameoftheproduct': 'LGB Elmo…', 'priceproduct': '£3.99', 'author': 'Sarah Albee', 'paper': ''}, {'nameoftheproduct': 'LGB Elmo…', 'priceproduct': '£3.99', 'author': 'Sarah Albee', 'paper': ''}, {'nameoftheproduct': 'LGB Elmo…', 'priceproduct': '£3.99', 'author': 'Sarah Albee', 'paper': ''}, {'nameoftheproduct': 'LGB Elmo…', 'priceproduct': '£3.99', 'author': 'Sarah Albee', 'paper': ''}, {'nameoftheproduct': 'LGB Elmo…', 'priceproduct': '£3.99', 'author': 'Sarah Albee', 'paper': ''}, {'nameoftheproduct': 'LGB Elmo…', 'priceproduct': '£3.99', 'author': 'Sarah Albee', 'paper': ''}, {'nameoftheproduct': 'LGB Elmo…', 'priceproduct': '£3.99', 'author': 'Sarah Albee', 'paper': ''}, {'nameoftheproduct': 'LGB Elmo…', 'priceproduct': '£3.99', 'author': 'Sarah Albee', 'paper': ''}, {'nameoftheproduct': 'LGB Elmo…', 'priceproduct': '£3.99', 'author': 'Sarah Albee', 'paper': ''}, {'nameoftheproduct': 'LGB Elmo…', 'priceproduct': '£3.99', 'author': 'Sarah Albee', 'paper': ''}, {'nameoftheproduct': 'LGB Elmo…', 'priceproduct': '£3.99', 'author': 'Sarah Albee', 'paper': ''}, {'nameoftheproduct': 'LGB Elmo…', 'priceproduct': '£3.99', 'author': 'Sarah Albee', 'paper': ''}, {'nameoftheproduct': 'LGB Elmo…', 'priceproduct': '£3.99', 'author': 'Sarah Albee', 'paper': ''}, {'nameoftheproduct': 'LGB Elmo…', 'priceproduct': '£3.99', 'author': 'Sarah Albee', 'paper': ''}, {'nameoftheproduct': 'LGB Elmo…', 'priceproduct': '£3.99', 'author': 'Sarah Albee', 'paper': ''}, {'nameoftheproduct': 'LGB Elmo…', 'priceproduct': '£3.99', 'author': 'Sarah Albee', 'paper': ''}, {'nameoftheproduct': 'LGB Elmo…', 'priceproduct': '£3.99', 'author': 'Sarah Albee', 'paper': ''}, {'nameoftheproduct': 'LGB Elmo…', 'priceproduct': '£3.99', 'author': 'Sarah Albee', 'paper': ''}, {'nameoftheproduct': 'LGB Elmo…', 'priceproduct': '£3.99', 'author': 'Sarah Albee', 'paper': ''}]\n",
      "[{'nameoftheproduct': 'LGB Elmo…', 'priceproduct': '£3.99', 'author': 'Sarah Albee', 'paper': ''}, {'nameoftheproduct': 'LGB Elmo…', 'priceproduct': '£3.99', 'author': 'Sarah Albee', 'paper': ''}, {'nameoftheproduct': 'LGB Elmo…', 'priceproduct': '£3.99', 'author': 'Sarah Albee', 'paper': ''}, {'nameoftheproduct': 'LGB Elmo…', 'priceproduct': '£3.99', 'author': 'Sarah Albee', 'paper': ''}, {'nameoftheproduct': 'LGB Elmo…', 'priceproduct': '£3.99', 'author': 'Sarah Albee', 'paper': ''}, {'nameoftheproduct': 'LGB Elmo…', 'priceproduct': '£3.99', 'author': 'Sarah Albee', 'paper': ''}, {'nameoftheproduct': 'LGB Elmo…', 'priceproduct': '£3.99', 'author': 'Sarah Albee', 'paper': ''}, {'nameoftheproduct': 'LGB Elmo…', 'priceproduct': '£3.99', 'author': 'Sarah Albee', 'paper': ''}, {'nameoftheproduct': 'LGB Elmo…', 'priceproduct': '£3.99', 'author': 'Sarah Albee', 'paper': ''}, {'nameoftheproduct': 'LGB Elmo…', 'priceproduct': '£3.99', 'author': 'Sarah Albee', 'paper': ''}, {'nameoftheproduct': 'LGB Elmo…', 'priceproduct': '£3.99', 'author': 'Sarah Albee', 'paper': ''}, {'nameoftheproduct': 'LGB Elmo…', 'priceproduct': '£3.99', 'author': 'Sarah Albee', 'paper': ''}, {'nameoftheproduct': 'LGB Elmo…', 'priceproduct': '£3.99', 'author': 'Sarah Albee', 'paper': ''}, {'nameoftheproduct': 'LGB Elmo…', 'priceproduct': '£3.99', 'author': 'Sarah Albee', 'paper': ''}, {'nameoftheproduct': 'LGB Elmo…', 'priceproduct': '£3.99', 'author': 'Sarah Albee', 'paper': ''}, {'nameoftheproduct': 'LGB Elmo…', 'priceproduct': '£3.99', 'author': 'Sarah Albee', 'paper': ''}, {'nameoftheproduct': 'LGB Elmo…', 'priceproduct': '£3.99', 'author': 'Sarah Albee', 'paper': ''}, {'nameoftheproduct': 'LGB Elmo…', 'priceproduct': '£3.99', 'author': 'Sarah Albee', 'paper': ''}, {'nameoftheproduct': 'LGB Elmo…', 'priceproduct': '£3.99', 'author': 'Sarah Albee', 'paper': ''}, {'nameoftheproduct': 'LGB Elmo…', 'priceproduct': '£3.99', 'author': 'Sarah Albee', 'paper': ''}]\n",
      "[{'nameoftheproduct': 'LGB Elmo…', 'priceproduct': '£3.99', 'author': 'Sarah Albee', 'paper': ''}, {'nameoftheproduct': 'LGB Elmo…', 'priceproduct': '£3.99', 'author': 'Sarah Albee', 'paper': ''}, {'nameoftheproduct': 'LGB Elmo…', 'priceproduct': '£3.99', 'author': 'Sarah Albee', 'paper': ''}, {'nameoftheproduct': 'LGB Elmo…', 'priceproduct': '£3.99', 'author': 'Sarah Albee', 'paper': ''}, {'nameoftheproduct': 'LGB Elmo…', 'priceproduct': '£3.99', 'author': 'Sarah Albee', 'paper': ''}, {'nameoftheproduct': 'LGB Elmo…', 'priceproduct': '£3.99', 'author': 'Sarah Albee', 'paper': ''}, {'nameoftheproduct': 'LGB Elmo…', 'priceproduct': '£3.99', 'author': 'Sarah Albee', 'paper': ''}, {'nameoftheproduct': 'LGB Elmo…', 'priceproduct': '£3.99', 'author': 'Sarah Albee', 'paper': ''}, {'nameoftheproduct': 'LGB Elmo…', 'priceproduct': '£3.99', 'author': 'Sarah Albee', 'paper': ''}, {'nameoftheproduct': 'LGB Elmo…', 'priceproduct': '£3.99', 'author': 'Sarah Albee', 'paper': ''}, {'nameoftheproduct': 'LGB Elmo…', 'priceproduct': '£3.99', 'author': 'Sarah Albee', 'paper': ''}, {'nameoftheproduct': 'LGB Elmo…', 'priceproduct': '£3.99', 'author': 'Sarah Albee', 'paper': ''}, {'nameoftheproduct': 'LGB Elmo…', 'priceproduct': '£3.99', 'author': 'Sarah Albee', 'paper': ''}, {'nameoftheproduct': 'LGB Elmo…', 'priceproduct': '£3.99', 'author': 'Sarah Albee', 'paper': ''}, {'nameoftheproduct': 'LGB Elmo…', 'priceproduct': '£3.99', 'author': 'Sarah Albee', 'paper': ''}, {'nameoftheproduct': 'LGB Elmo…', 'priceproduct': '£3.99', 'author': 'Sarah Albee', 'paper': ''}, {'nameoftheproduct': 'LGB Elmo…', 'priceproduct': '£3.99', 'author': 'Sarah Albee', 'paper': ''}, {'nameoftheproduct': 'LGB Elmo…', 'priceproduct': '£3.99', 'author': 'Sarah Albee', 'paper': ''}, {'nameoftheproduct': 'LGB Elmo…', 'priceproduct': '£3.99', 'author': 'Sarah Albee', 'paper': ''}, {'nameoftheproduct': 'LGB Elmo…', 'priceproduct': '£3.99', 'author': 'Sarah Albee', 'paper': ''}, {'nameoftheproduct': 'LGB Elmo…', 'priceproduct': '£3.99', 'author': 'Sarah Albee', 'paper': ''}]\n",
      "[{'nameoftheproduct': 'LGB Elmo…', 'priceproduct': '£3.99', 'author': 'Sarah Albee', 'paper': ''}, {'nameoftheproduct': 'LGB Elmo…', 'priceproduct': '£3.99', 'author': 'Sarah Albee', 'paper': ''}, {'nameoftheproduct': 'LGB Elmo…', 'priceproduct': '£3.99', 'author': 'Sarah Albee', 'paper': ''}, {'nameoftheproduct': 'LGB Elmo…', 'priceproduct': '£3.99', 'author': 'Sarah Albee', 'paper': ''}, {'nameoftheproduct': 'LGB Elmo…', 'priceproduct': '£3.99', 'author': 'Sarah Albee', 'paper': ''}, {'nameoftheproduct': 'LGB Elmo…', 'priceproduct': '£3.99', 'author': 'Sarah Albee', 'paper': ''}, {'nameoftheproduct': 'LGB Elmo…', 'priceproduct': '£3.99', 'author': 'Sarah Albee', 'paper': ''}, {'nameoftheproduct': 'LGB Elmo…', 'priceproduct': '£3.99', 'author': 'Sarah Albee', 'paper': ''}, {'nameoftheproduct': 'LGB Elmo…', 'priceproduct': '£3.99', 'author': 'Sarah Albee', 'paper': ''}, {'nameoftheproduct': 'LGB Elmo…', 'priceproduct': '£3.99', 'author': 'Sarah Albee', 'paper': ''}, {'nameoftheproduct': 'LGB Elmo…', 'priceproduct': '£3.99', 'author': 'Sarah Albee', 'paper': ''}, {'nameoftheproduct': 'LGB Elmo…', 'priceproduct': '£3.99', 'author': 'Sarah Albee', 'paper': ''}, {'nameoftheproduct': 'LGB Elmo…', 'priceproduct': '£3.99', 'author': 'Sarah Albee', 'paper': ''}, {'nameoftheproduct': 'LGB Elmo…', 'priceproduct': '£3.99', 'author': 'Sarah Albee', 'paper': ''}, {'nameoftheproduct': 'LGB Elmo…', 'priceproduct': '£3.99', 'author': 'Sarah Albee', 'paper': ''}, {'nameoftheproduct': 'LGB Elmo…', 'priceproduct': '£3.99', 'author': 'Sarah Albee', 'paper': ''}, {'nameoftheproduct': 'LGB Elmo…', 'priceproduct': '£3.99', 'author': 'Sarah Albee', 'paper': ''}, {'nameoftheproduct': 'LGB Elmo…', 'priceproduct': '£3.99', 'author': 'Sarah Albee', 'paper': ''}, {'nameoftheproduct': 'LGB Elmo…', 'priceproduct': '£3.99', 'author': 'Sarah Albee', 'paper': ''}, {'nameoftheproduct': 'LGB Elmo…', 'priceproduct': '£3.99', 'author': 'Sarah Albee', 'paper': ''}, {'nameoftheproduct': 'LGB Elmo…', 'priceproduct': '£3.99', 'author': 'Sarah Albee', 'paper': ''}, {'nameoftheproduct': 'LGB Elmo…', 'priceproduct': '£3.99', 'author': 'Sarah Albee', 'paper': ''}]\n",
      "[{'nameoftheproduct': 'LGB Elmo…', 'priceproduct': '£3.99', 'author': 'Sarah Albee', 'paper': ''}, {'nameoftheproduct': 'LGB Elmo…', 'priceproduct': '£3.99', 'author': 'Sarah Albee', 'paper': ''}, {'nameoftheproduct': 'LGB Elmo…', 'priceproduct': '£3.99', 'author': 'Sarah Albee', 'paper': ''}, {'nameoftheproduct': 'LGB Elmo…', 'priceproduct': '£3.99', 'author': 'Sarah Albee', 'paper': ''}, {'nameoftheproduct': 'LGB Elmo…', 'priceproduct': '£3.99', 'author': 'Sarah Albee', 'paper': ''}, {'nameoftheproduct': 'LGB Elmo…', 'priceproduct': '£3.99', 'author': 'Sarah Albee', 'paper': ''}, {'nameoftheproduct': 'LGB Elmo…', 'priceproduct': '£3.99', 'author': 'Sarah Albee', 'paper': ''}, {'nameoftheproduct': 'LGB Elmo…', 'priceproduct': '£3.99', 'author': 'Sarah Albee', 'paper': ''}, {'nameoftheproduct': 'LGB Elmo…', 'priceproduct': '£3.99', 'author': 'Sarah Albee', 'paper': ''}, {'nameoftheproduct': 'LGB Elmo…', 'priceproduct': '£3.99', 'author': 'Sarah Albee', 'paper': ''}, {'nameoftheproduct': 'LGB Elmo…', 'priceproduct': '£3.99', 'author': 'Sarah Albee', 'paper': ''}, {'nameoftheproduct': 'LGB Elmo…', 'priceproduct': '£3.99', 'author': 'Sarah Albee', 'paper': ''}, {'nameoftheproduct': 'LGB Elmo…', 'priceproduct': '£3.99', 'author': 'Sarah Albee', 'paper': ''}, {'nameoftheproduct': 'LGB Elmo…', 'priceproduct': '£3.99', 'author': 'Sarah Albee', 'paper': ''}, {'nameoftheproduct': 'LGB Elmo…', 'priceproduct': '£3.99', 'author': 'Sarah Albee', 'paper': ''}, {'nameoftheproduct': 'LGB Elmo…', 'priceproduct': '£3.99', 'author': 'Sarah Albee', 'paper': ''}, {'nameoftheproduct': 'LGB Elmo…', 'priceproduct': '£3.99', 'author': 'Sarah Albee', 'paper': ''}, {'nameoftheproduct': 'LGB Elmo…', 'priceproduct': '£3.99', 'author': 'Sarah Albee', 'paper': ''}, {'nameoftheproduct': 'LGB Elmo…', 'priceproduct': '£3.99', 'author': 'Sarah Albee', 'paper': ''}, {'nameoftheproduct': 'LGB Elmo…', 'priceproduct': '£3.99', 'author': 'Sarah Albee', 'paper': ''}, {'nameoftheproduct': 'LGB Elmo…', 'priceproduct': '£3.99', 'author': 'Sarah Albee', 'paper': ''}, {'nameoftheproduct': 'LGB Elmo…', 'priceproduct': '£3.99', 'author': 'Sarah Albee', 'paper': ''}, {'nameoftheproduct': 'LGB Elmo…', 'priceproduct': '£3.99', 'author': 'Sarah Albee', 'paper': ''}]\n",
      "[{'nameoftheproduct': 'LGB Elmo…', 'priceproduct': '£3.99', 'author': 'Sarah Albee', 'paper': ''}, {'nameoftheproduct': 'LGB Elmo…', 'priceproduct': '£3.99', 'author': 'Sarah Albee', 'paper': ''}, {'nameoftheproduct': 'LGB Elmo…', 'priceproduct': '£3.99', 'author': 'Sarah Albee', 'paper': ''}, {'nameoftheproduct': 'LGB Elmo…', 'priceproduct': '£3.99', 'author': 'Sarah Albee', 'paper': ''}, {'nameoftheproduct': 'LGB Elmo…', 'priceproduct': '£3.99', 'author': 'Sarah Albee', 'paper': ''}, {'nameoftheproduct': 'LGB Elmo…', 'priceproduct': '£3.99', 'author': 'Sarah Albee', 'paper': ''}, {'nameoftheproduct': 'LGB Elmo…', 'priceproduct': '£3.99', 'author': 'Sarah Albee', 'paper': ''}, {'nameoftheproduct': 'LGB Elmo…', 'priceproduct': '£3.99', 'author': 'Sarah Albee', 'paper': ''}, {'nameoftheproduct': 'LGB Elmo…', 'priceproduct': '£3.99', 'author': 'Sarah Albee', 'paper': ''}, {'nameoftheproduct': 'LGB Elmo…', 'priceproduct': '£3.99', 'author': 'Sarah Albee', 'paper': ''}, {'nameoftheproduct': 'LGB Elmo…', 'priceproduct': '£3.99', 'author': 'Sarah Albee', 'paper': ''}, {'nameoftheproduct': 'LGB Elmo…', 'priceproduct': '£3.99', 'author': 'Sarah Albee', 'paper': ''}, {'nameoftheproduct': 'LGB Elmo…', 'priceproduct': '£3.99', 'author': 'Sarah Albee', 'paper': ''}, {'nameoftheproduct': 'LGB Elmo…', 'priceproduct': '£3.99', 'author': 'Sarah Albee', 'paper': ''}, {'nameoftheproduct': 'LGB Elmo…', 'priceproduct': '£3.99', 'author': 'Sarah Albee', 'paper': ''}, {'nameoftheproduct': 'LGB Elmo…', 'priceproduct': '£3.99', 'author': 'Sarah Albee', 'paper': ''}, {'nameoftheproduct': 'LGB Elmo…', 'priceproduct': '£3.99', 'author': 'Sarah Albee', 'paper': ''}, {'nameoftheproduct': 'LGB Elmo…', 'priceproduct': '£3.99', 'author': 'Sarah Albee', 'paper': ''}, {'nameoftheproduct': 'LGB Elmo…', 'priceproduct': '£3.99', 'author': 'Sarah Albee', 'paper': ''}, {'nameoftheproduct': 'LGB Elmo…', 'priceproduct': '£3.99', 'author': 'Sarah Albee', 'paper': ''}, {'nameoftheproduct': 'LGB Elmo…', 'priceproduct': '£3.99', 'author': 'Sarah Albee', 'paper': ''}, {'nameoftheproduct': 'LGB Elmo…', 'priceproduct': '£3.99', 'author': 'Sarah Albee', 'paper': ''}, {'nameoftheproduct': 'LGB Elmo…', 'priceproduct': '£3.99', 'author': 'Sarah Albee', 'paper': ''}, {'nameoftheproduct': 'LGB Elmo…', 'priceproduct': '£3.99', 'author': 'Sarah Albee', 'paper': ''}]\n"
     ]
    }
   ],
   "source": [
    "all = []\n",
    "for i in products:\n",
    "    #name_ = driver.find_element_by_xpath('//*[@id=\"p_1992\"]/div/div[2]/div[1]/a').text\n",
    "    author = driver.find_element_by_xpath('//*[@id=\"p_1992\"]/div/div[2]/span/a/b').text\n",
    "    price = driver.find_element_by_xpath('//*[@id=\"p_1992\"]/div/div[2]/div[2]/span[2]').text\n",
    "    paper = driver.find_element_by_xpath('//*[@id=\"p_1992\"]/div/div[2]/div[2]/span[3]').text\n",
    "    \n",
    "    \n",
    "    temj = {'nameoftheproduct':name_,\n",
    "        'priceproduct':price,\n",
    "        'author':author,\n",
    "        'paper':paper,\n",
    "        'paper':''}\n",
    "    all.append(temj)\n",
    "    print(all)"
   ]
  },
  {
   "cell_type": "code",
   "execution_count": null,
   "metadata": {},
   "outputs": [],
   "source": [
    "print(all)"
   ]
  },
  {
   "cell_type": "code",
   "execution_count": 71,
   "metadata": {},
   "outputs": [
    {
     "output_type": "error",
     "ename": "AttributeError",
     "evalue": "'str' object has no attribute 'click'",
     "traceback": [
      "\u001b[1;31m---------------------------------------------------------------------------\u001b[0m",
      "\u001b[1;31mAttributeError\u001b[0m                            Traceback (most recent call last)",
      "\u001b[1;32m<ipython-input-71-8fdb9132f213>\u001b[0m in \u001b[0;36m<module>\u001b[1;34m\u001b[0m\n\u001b[0;32m      1\u001b[0m \u001b[0mppp1\u001b[0m \u001b[1;33m=\u001b[0m \u001b[0mppp\u001b[0m\u001b[1;33m.\u001b[0m\u001b[0mfind_element_by_tag_name\u001b[0m\u001b[1;33m(\u001b[0m\u001b[1;34m'a'\u001b[0m\u001b[1;33m)\u001b[0m\u001b[1;33m\u001b[0m\u001b[1;33m\u001b[0m\u001b[0m\n\u001b[0;32m      2\u001b[0m \u001b[0mppp2\u001b[0m \u001b[1;33m=\u001b[0m \u001b[0mppp1\u001b[0m\u001b[1;33m.\u001b[0m\u001b[0mget_property\u001b[0m\u001b[1;33m(\u001b[0m\u001b[1;34m'href'\u001b[0m\u001b[1;33m)\u001b[0m\u001b[1;33m\u001b[0m\u001b[1;33m\u001b[0m\u001b[0m\n\u001b[1;32m----> 3\u001b[1;33m \u001b[0mppp2\u001b[0m\u001b[1;33m.\u001b[0m\u001b[0mclick\u001b[0m\u001b[1;33m(\u001b[0m\u001b[1;33m)\u001b[0m\u001b[1;33m\u001b[0m\u001b[1;33m\u001b[0m\u001b[0m\n\u001b[0m",
      "\u001b[1;31mAttributeError\u001b[0m: 'str' object has no attribute 'click'"
     ]
    }
   ],
   "source": []
  },
  {
   "source": [],
   "cell_type": "markdown",
   "metadata": {}
  },
  {
   "cell_type": "code",
   "execution_count": 8,
   "metadata": {},
   "outputs": [
    {
     "output_type": "error",
     "ename": "WebDriverException",
     "evalue": "Message: chrome not reachable\n  (Session info: chrome=87.0.4280.141)\n",
     "traceback": [
      "\u001b[1;31m---------------------------------------------------------------------------\u001b[0m",
      "\u001b[1;31mWebDriverException\u001b[0m                        Traceback (most recent call last)",
      "\u001b[1;32m<ipython-input-8-ad0c9a213c39>\u001b[0m in \u001b[0;36m<module>\u001b[1;34m\u001b[0m\n\u001b[1;32m----> 1\u001b[1;33m \u001b[0mdriver\u001b[0m\u001b[1;33m.\u001b[0m\u001b[0mclose\u001b[0m\u001b[1;33m(\u001b[0m\u001b[1;33m)\u001b[0m\u001b[1;33m\u001b[0m\u001b[1;33m\u001b[0m\u001b[0m\n\u001b[0m",
      "\u001b[1;32mc:\\learning\\learning\\lib\\site-packages\\selenium\\webdriver\\remote\\webdriver.py\u001b[0m in \u001b[0;36mclose\u001b[1;34m(self)\u001b[0m\n\u001b[0;32m    686\u001b[0m             \u001b[0mdriver\u001b[0m\u001b[1;33m.\u001b[0m\u001b[0mclose\u001b[0m\u001b[1;33m(\u001b[0m\u001b[1;33m)\u001b[0m\u001b[1;33m\u001b[0m\u001b[1;33m\u001b[0m\u001b[0m\n\u001b[0;32m    687\u001b[0m         \"\"\"\n\u001b[1;32m--> 688\u001b[1;33m         \u001b[0mself\u001b[0m\u001b[1;33m.\u001b[0m\u001b[0mexecute\u001b[0m\u001b[1;33m(\u001b[0m\u001b[0mCommand\u001b[0m\u001b[1;33m.\u001b[0m\u001b[0mCLOSE\u001b[0m\u001b[1;33m)\u001b[0m\u001b[1;33m\u001b[0m\u001b[1;33m\u001b[0m\u001b[0m\n\u001b[0m\u001b[0;32m    689\u001b[0m \u001b[1;33m\u001b[0m\u001b[0m\n\u001b[0;32m    690\u001b[0m     \u001b[1;32mdef\u001b[0m \u001b[0mquit\u001b[0m\u001b[1;33m(\u001b[0m\u001b[0mself\u001b[0m\u001b[1;33m)\u001b[0m\u001b[1;33m:\u001b[0m\u001b[1;33m\u001b[0m\u001b[1;33m\u001b[0m\u001b[0m\n",
      "\u001b[1;32mc:\\learning\\learning\\lib\\site-packages\\selenium\\webdriver\\remote\\webdriver.py\u001b[0m in \u001b[0;36mexecute\u001b[1;34m(self, driver_command, params)\u001b[0m\n\u001b[0;32m    319\u001b[0m         \u001b[0mresponse\u001b[0m \u001b[1;33m=\u001b[0m \u001b[0mself\u001b[0m\u001b[1;33m.\u001b[0m\u001b[0mcommand_executor\u001b[0m\u001b[1;33m.\u001b[0m\u001b[0mexecute\u001b[0m\u001b[1;33m(\u001b[0m\u001b[0mdriver_command\u001b[0m\u001b[1;33m,\u001b[0m \u001b[0mparams\u001b[0m\u001b[1;33m)\u001b[0m\u001b[1;33m\u001b[0m\u001b[1;33m\u001b[0m\u001b[0m\n\u001b[0;32m    320\u001b[0m         \u001b[1;32mif\u001b[0m \u001b[0mresponse\u001b[0m\u001b[1;33m:\u001b[0m\u001b[1;33m\u001b[0m\u001b[1;33m\u001b[0m\u001b[0m\n\u001b[1;32m--> 321\u001b[1;33m             \u001b[0mself\u001b[0m\u001b[1;33m.\u001b[0m\u001b[0merror_handler\u001b[0m\u001b[1;33m.\u001b[0m\u001b[0mcheck_response\u001b[0m\u001b[1;33m(\u001b[0m\u001b[0mresponse\u001b[0m\u001b[1;33m)\u001b[0m\u001b[1;33m\u001b[0m\u001b[1;33m\u001b[0m\u001b[0m\n\u001b[0m\u001b[0;32m    322\u001b[0m             response['value'] = self._unwrap_value(\n\u001b[0;32m    323\u001b[0m                 response.get('value', None))\n",
      "\u001b[1;32mc:\\learning\\learning\\lib\\site-packages\\selenium\\webdriver\\remote\\errorhandler.py\u001b[0m in \u001b[0;36mcheck_response\u001b[1;34m(self, response)\u001b[0m\n\u001b[0;32m    240\u001b[0m                 \u001b[0malert_text\u001b[0m \u001b[1;33m=\u001b[0m \u001b[0mvalue\u001b[0m\u001b[1;33m[\u001b[0m\u001b[1;34m'alert'\u001b[0m\u001b[1;33m]\u001b[0m\u001b[1;33m.\u001b[0m\u001b[0mget\u001b[0m\u001b[1;33m(\u001b[0m\u001b[1;34m'text'\u001b[0m\u001b[1;33m)\u001b[0m\u001b[1;33m\u001b[0m\u001b[1;33m\u001b[0m\u001b[0m\n\u001b[0;32m    241\u001b[0m             \u001b[1;32mraise\u001b[0m \u001b[0mexception_class\u001b[0m\u001b[1;33m(\u001b[0m\u001b[0mmessage\u001b[0m\u001b[1;33m,\u001b[0m \u001b[0mscreen\u001b[0m\u001b[1;33m,\u001b[0m \u001b[0mstacktrace\u001b[0m\u001b[1;33m,\u001b[0m \u001b[0malert_text\u001b[0m\u001b[1;33m)\u001b[0m\u001b[1;33m\u001b[0m\u001b[1;33m\u001b[0m\u001b[0m\n\u001b[1;32m--> 242\u001b[1;33m         \u001b[1;32mraise\u001b[0m \u001b[0mexception_class\u001b[0m\u001b[1;33m(\u001b[0m\u001b[0mmessage\u001b[0m\u001b[1;33m,\u001b[0m \u001b[0mscreen\u001b[0m\u001b[1;33m,\u001b[0m \u001b[0mstacktrace\u001b[0m\u001b[1;33m)\u001b[0m\u001b[1;33m\u001b[0m\u001b[1;33m\u001b[0m\u001b[0m\n\u001b[0m\u001b[0;32m    243\u001b[0m \u001b[1;33m\u001b[0m\u001b[0m\n\u001b[0;32m    244\u001b[0m     \u001b[1;32mdef\u001b[0m \u001b[0m_value_or_default\u001b[0m\u001b[1;33m(\u001b[0m\u001b[0mself\u001b[0m\u001b[1;33m,\u001b[0m \u001b[0mobj\u001b[0m\u001b[1;33m,\u001b[0m \u001b[0mkey\u001b[0m\u001b[1;33m,\u001b[0m \u001b[0mdefault\u001b[0m\u001b[1;33m)\u001b[0m\u001b[1;33m:\u001b[0m\u001b[1;33m\u001b[0m\u001b[1;33m\u001b[0m\u001b[0m\n",
      "\u001b[1;31mWebDriverException\u001b[0m: Message: chrome not reachable\n  (Session info: chrome=87.0.4280.141)\n"
     ]
    }
   ],
   "source": [
    "driver.close()"
   ]
  },
  {
   "cell_type": "code",
   "execution_count": 64,
   "metadata": {},
   "outputs": [
    {
     "output_type": "stream",
     "name": "stdout",
     "text": [
      "<selenium.webdriver.remote.webelement.WebElement (session=\"b22aac3306f00f0211a5d59142bc20f8\", element=\"9d1caae6-56d3-4b40-b71d-15c57fbbd88f\")>\n"
     ]
    }
   ],
   "source": [
    "driver.find_element_by_class_name('search-results-list')\n",
    "author = driver.find_element_by_class_name('author')\n",
    "price = driver.find_element_by_class_name('price')\n",
    "\n",
    "print(author)"
   ]
  },
  {
   "cell_type": "code",
   "execution_count": null,
   "metadata": {},
   "outputs": [],
   "source": []
  }
 ]
}